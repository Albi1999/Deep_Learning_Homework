{
 "cells": [
  {
   "cell_type": "markdown",
   "metadata": {
    "id": "raUKrVPW0SO1",
    "pycharm": {
     "name": "#%% md\n"
    }
   },
   "source": [
    "#**Deep Learning Homework 2: *Optimize and Train Deep Models***\n",
    "### MSc Computer Science, Data Science, Cybersecurity @UniPD\n",
    "### 2nd semester - 6 ECTS\n",
    "### Prof. Nicolò Navarin & Prof. Alessandro Sperduti\n",
    "---"
   ]
  },
  {
   "cell_type": "markdown",
   "metadata": {
    "id": "QUc9frYnVBI_",
    "pycharm": {
     "name": "#%% md\n"
    }
   },
   "source": [
    "In this homework, we will explore how to develop a simple Deep Neural Network for a classification problem. We will explore two common libraries: TensorFlow and Keras.\n",
    "Then we will explore how to face a well known problem that is common to encounter during the training phase: the Overfitting.\n",
    "Finally, we will study how to perform a fair model selection.\n",
    "Hint: Before starting the exercise take a look at how Tensorflow and Keras are designed.  https://keras.io/"
   ]
  },
  {
   "cell_type": "markdown",
   "metadata": {
    "id": "e-Nc7mFSVEiU",
    "pycharm": {
     "name": "#%% md\n"
    }
   },
   "source": [
    "## Exercise 2.1: Text Classficiation with Tensorflow and Keras\n",
    "\n",
    "In this first exercise we will develop a 3 layers Neural Network to perfrom classification.\n",
    "\n",
    "Let's start importing the libraries we will need and setting a couple of environmental variables.\n"
   ]
  },
  {
   "cell_type": "code",
   "execution_count": 1,
   "metadata": {
    "id": "bWn9FzneVqJo",
    "vscode": {
     "languageId": "python"
    },
    "pycharm": {
     "name": "#%%\n"
    }
   },
   "outputs": [],
   "source": [
    "import matplotlib as mpl\n",
    "import matplotlib.pyplot as plt\n",
    "import numpy as np\n",
    "import os\n",
    "import pandas as pd\n",
    "import sklearn\n",
    "import sys\n",
    "import tensorflow as tf\n",
    "from tensorflow import keras  # tf.keras\n",
    "import tensorflow_datasets as tfds\n",
    "import time\n",
    "\n",
    "import logging\n",
    "logging.disable(logging.WARNING)\n",
    "os.environ[\"TF_CPP_MIN_LOG_LEVEL\"] = \"3\" \n",
    "\n",
    "tf.random.set_seed(42)\n",
    "# os.environ['TF_DETERMINISTIC_OPS']='1'"
   ]
  },
  {
   "cell_type": "markdown",
   "metadata": {
    "id": "LT2HMYDEXcx0",
    "pycharm": {
     "name": "#%% md\n"
    }
   },
   "source": [
    "### Load Data: AG News Subset\n",
    "\n",
    "In this HW, we use the AG News Subset that is available in Tensorflow Dataset. The AG's news topic classification dataset is constructed by choosing the 4 largest topic classes from a larger news corups. The total number of training samples is 120,000 and testing 7,600. Each class contains 30,000 training samples and 1,900 testing samples. Each sample contains both the title and an excerpt of the article, but in this exercise we will use only the excerpt as input.\n",
    "\n",
    "We will split the training set into two 90%-10% splits in order to have a validation set."
   ]
  },
  {
   "cell_type": "code",
   "execution_count": 2,
   "metadata": {
    "id": "d8xZASzs26zD",
    "vscode": {
     "languageId": "python"
    },
    "pycharm": {
     "name": "#%%\n"
    }
   },
   "outputs": [
    {
     "name": "stdout",
     "output_type": "stream",
     "text": [
      "Metal device set to: Apple M1 Max\n"
     ]
    }
   ],
   "source": [
    "### NOTE ### \n",
    "# running this cell might yield download-related errors.\n",
    "# just repeating the execution a couple of times should solve the error.\n",
    "\n",
    "train_ds, valid_ds, test_ds = tfds.load('ag_news_subset',\n",
    "                                        as_supervised=True, # return a set of (text, label) tuples \n",
    "                                        split=['train[:90%]', 'train[-10%:]', 'test'],\n",
    "                                        batch_size=-1)  \n",
    "                                        # ^ using batch_size=-1 returns Tensors instead of Dataset objects"
   ]
  },
  {
   "cell_type": "code",
   "execution_count": 3,
   "metadata": {
    "id": "BYkXCTv3NrvC",
    "vscode": {
     "languageId": "python"
    },
    "pycharm": {
     "name": "#%%\n"
    }
   },
   "outputs": [],
   "source": [
    "# Tensors have two elements, data and labels; let's split them\n",
    "# so we can transform the data\n",
    "X_train, y_train = train_ds\n",
    "X_valid, y_valid = valid_ds\n",
    "X_test, y_test = test_ds"
   ]
  },
  {
   "cell_type": "markdown",
   "metadata": {
    "id": "8prUBtqq8JW7",
    "pycharm": {
     "name": "#%% md\n"
    }
   },
   "source": [
    "The AG News Subset dataset consists in news articles, each one composed by a sequence of words. In order to encode each article in a single tensor with a fixed number of elements, we will use multi-hot encoding. For testing purposes, we will only consider the first 10,000  most common words. Multi-hot-encoding our lists means turning them into vectors of 0s and 1s. Concretely, this would mean for instance turning the sequence [3, 5] into a 10,000-dimensional vector that would be all-zeros except for indices 3 and 5, which would be ones. The obtained input representation indicates which words are present (at least one time) in the sentence."
   ]
  },
  {
   "cell_type": "code",
   "execution_count": 4,
   "metadata": {
    "id": "Brt087tDIDpe",
    "vscode": {
     "languageId": "python"
    },
    "pycharm": {
     "name": "#%%\n"
    }
   },
   "outputs": [],
   "source": [
    "num_words = 1000\n",
    "vectorize_layer = tf.keras.layers.TextVectorization(\n",
    " max_tokens=num_words,\n",
    " standardize=\"lower_and_strip_punctuation\",\n",
    " split=\"whitespace\",\n",
    " output_mode='multi_hot',\n",
    " pad_to_max_tokens=True)\n",
    "\n",
    "vectorize_layer.adapt(X_train)"
   ]
  },
  {
   "cell_type": "code",
   "execution_count": 5,
   "metadata": {
    "id": "seuFLH2lNiDT",
    "vscode": {
     "languageId": "python"
    },
    "pycharm": {
     "name": "#%%\n"
    }
   },
   "outputs": [],
   "source": [
    "X_train = vectorize_layer(X_train)\n",
    "X_valid = vectorize_layer(X_valid)\n",
    "X_test  = vectorize_layer(X_test)"
   ]
  },
  {
   "cell_type": "markdown",
   "metadata": {
    "id": "jGUg8TexZMNf",
    "pycharm": {
     "name": "#%% md\n"
    }
   },
   "source": [
    "### Define the model:\n",
    "\n",
    "Let's build a Sequential model (`keras.models.Sequential`) and add four layers to it by calling its `add()` method:\n",
    "\n",
    "\n",
    "*   a input layer (`tf.keras.Input`) that is the first layer in your model. With this layer you should specify the `input_shape` argument, leaving out the batch size: `(num_words,)`;\n",
    "*  a Dense layer (`keras.layers.Dense`) with 16 neurons, and the \"relu\" activation function;\n",
    "* another Dense layer with 16 neurons, also with the \"relu\" activation function;\n",
    "* a final Dense layer with 4 output neurons, and with the \"softmax\" activation (since we considering a classification task with four classes)."
   ]
  },
  {
   "cell_type": "code",
   "execution_count": 6,
   "metadata": {
    "id": "OaoEISyaZL56",
    "vscode": {
     "languageId": "python"
    },
    "pycharm": {
     "name": "#%%\n"
    }
   },
   "outputs": [],
   "source": [
    "model = keras.models.Sequential()\n",
    "model.add(tf.keras.Input(shape=(num_words,)))\n",
    "model.add(keras.layers.Dense(16, activation=\"relu\"))\n",
    "model.add(keras.layers.Dense(16, activation=\"relu\"))\n",
    "model.add(keras.layers.Dense(4, activation=\"softmax\"))"
   ]
  },
  {
   "cell_type": "markdown",
   "metadata": {
    "id": "fYfxUOQVZljh",
    "pycharm": {
     "name": "#%% md\n"
    }
   },
   "source": [
    "Call the model's `summary()` method to check if the model has been built correctly. Also, try using `keras.utils.plot_model()` to save an image of your model's architecture."
   ]
  },
  {
   "cell_type": "code",
   "execution_count": 7,
   "metadata": {
    "id": "IpGkQl5dZoWq",
    "vscode": {
     "languageId": "python"
    },
    "pycharm": {
     "name": "#%%\n"
    }
   },
   "outputs": [
    {
     "name": "stdout",
     "output_type": "stream",
     "text": [
      "Model: \"sequential\"\n",
      "_________________________________________________________________\n",
      " Layer (type)                Output Shape              Param #   \n",
      "=================================================================\n",
      " dense (Dense)               (None, 16)                16016     \n",
      "                                                                 \n",
      " dense_1 (Dense)             (None, 16)                272       \n",
      "                                                                 \n",
      " dense_2 (Dense)             (None, 4)                 68        \n",
      "                                                                 \n",
      "=================================================================\n",
      "Total params: 16,356\n",
      "Trainable params: 16,356\n",
      "Non-trainable params: 0\n",
      "_________________________________________________________________\n"
     ]
    }
   ],
   "source": [
    "model.summary()"
   ]
  },
  {
   "cell_type": "code",
   "execution_count": 8,
   "metadata": {
    "id": "b1NbkrXRZwOA",
    "vscode": {
     "languageId": "python"
    },
    "pycharm": {
     "name": "#%%\n"
    }
   },
   "outputs": [
    {
     "data": {
      "image/png": "[encoded data removed]",
      "text/plain": [
       "<IPython.core.display.Image object>"
      ]
     },
     "execution_count": 8,
     "metadata": {},
     "output_type": "execute_result"
    }
   ],
   "source": [
    "keras.utils.plot_model(model, \"my_model.png\", show_shapes=True)"
   ]
  },
  {
   "cell_type": "markdown",
   "metadata": {
    "id": "Mc3xzuA-33WH",
    "pycharm": {
     "name": "#%% md\n"
    }
   },
   "source": [
    "As you can see, the first dimension of each layer is not defined (`None`), indeed this dimension in each layer is variable and depends on the batch size."
   ]
  },
  {
   "cell_type": "markdown",
   "metadata": {
    "id": "6FAjFixuHSA_",
    "pycharm": {
     "name": "#%% md\n"
    }
   },
   "source": [
    "Instaed of using `add()` method it is also possibile to define the model using the following syntax"
   ]
  },
  {
   "cell_type": "code",
   "execution_count": 9,
   "metadata": {
    "id": "yOhr57M9GPHy",
    "vscode": {
     "languageId": "python"
    },
    "pycharm": {
     "name": "#%%\n"
    }
   },
   "outputs": [
    {
     "name": "stdout",
     "output_type": "stream",
     "text": [
      "Model: \"sequential_1\"\n",
      "_________________________________________________________________\n",
      " Layer (type)                Output Shape              Param #   \n",
      "=================================================================\n",
      " dense_3 (Dense)             (None, 16)                16016     \n",
      "                                                                 \n",
      " dense_4 (Dense)             (None, 16)                272       \n",
      "                                                                 \n",
      " dense_5 (Dense)             (None, 4)                 68        \n",
      "                                                                 \n",
      "=================================================================\n",
      "Total params: 16,356\n",
      "Trainable params: 16,356\n",
      "Non-trainable params: 0\n",
      "_________________________________________________________________\n"
     ]
    },
    {
     "data": {
      "image/png": "[encoded data removed]",
      "text/plain": [
       "<IPython.core.display.Image object>"
      ]
     },
     "execution_count": 9,
     "metadata": {},
     "output_type": "execute_result"
    }
   ],
   "source": [
    "model = keras.models.Sequential([\n",
    "    tf.keras.Input(shape=(num_words,)),\n",
    "    keras.layers.Dense(16, activation=\"relu\"),\n",
    "    keras.layers.Dense(16, activation=\"relu\"),\n",
    "    keras.layers.Dense(4, activation=\"softmax\")\n",
    "])\n",
    "model.summary()\n",
    "keras.utils.plot_model(model, \"my_model.png\", show_shapes=True)"
   ]
  },
  {
   "cell_type": "markdown",
   "metadata": {
    "id": "2ySdJmzxaSuz",
    "pycharm": {
     "name": "#%% md\n"
    }
   },
   "source": [
    "### Optimize the model:\n",
    "\n",
    "After the model has been created, you must call its `compile()` method to specify the loss function and the optimizer to use.\n",
    "\n",
    "Since the model performs a classification task, and we have labels encoded as integers, we use the sparse categorical cross-entropy loss. As optimizer we use Adam.\n",
    "\n",
    "Moreover, you can optionally specify a list of additional metrics that should be measured during training. In this case we specify `metrics=[\"accuracy\"]`."
   ]
  },
  {
   "cell_type": "code",
   "execution_count": 10,
   "metadata": {
    "id": "x3bbsY3uaeh5",
    "vscode": {
     "languageId": "python"
    },
    "pycharm": {
     "name": "#%%\n"
    }
   },
   "outputs": [],
   "source": [
    "model.compile(loss=\"sparse_categorical_crossentropy\",\n",
    "              optimizer=keras.optimizers.Adam(learning_rate=1e-4),\n",
    "              metrics=[\"accuracy\"])"
   ]
  },
  {
   "cell_type": "markdown",
   "metadata": {
    "id": "NB9SV0MpaeTg",
    "pycharm": {
     "name": "#%% md\n"
    }
   },
   "source": [
    "Now our model is ready to be trained. Call its `fit()` method, passing to it the input features (`X_train`) and the target classes (`y_train`). Set the number of epochs to 20. \n",
    "In order to validate our model we will also pass the validation data by setting `validation_data=(X_valid, y_valid)`. Keras will compute the loss and the additional metrics (the accuracy in this case) on the validation set at the end of each epoch. If the loss on the training set is much lower than the one on the validation set, your model is probably overfitting the training set. Note: the `fit()` method will return a `History` object containing training stats."
   ]
  },
  {
   "cell_type": "code",
   "execution_count": 11,
   "metadata": {
    "id": "5whx-LU3aoKn",
    "vscode": {
     "languageId": "python"
    },
    "pycharm": {
     "name": "#%%\n"
    }
   },
   "outputs": [
    {
     "name": "stdout",
     "output_type": "stream",
     "text": [
      "Epoch 1/20\n",
      "3375/3375 [==============================] - 18s 5ms/step - loss: 0.7928 - accuracy: 0.7263 - val_loss: 0.4999 - val_accuracy: 0.8328\n",
      "Epoch 2/20\n",
      "3375/3375 [==============================] - 17s 5ms/step - loss: 0.4530 - accuracy: 0.8446 - val_loss: 0.4408 - val_accuracy: 0.8494\n",
      "Epoch 3/20\n",
      "3375/3375 [==============================] - 17s 5ms/step - loss: 0.4181 - accuracy: 0.8537 - val_loss: 0.4269 - val_accuracy: 0.8517\n",
      "Epoch 4/20\n",
      "3375/3375 [==============================] - 17s 5ms/step - loss: 0.4047 - accuracy: 0.8566 - val_loss: 0.4186 - val_accuracy: 0.8532\n",
      "Epoch 5/20\n",
      "3375/3375 [==============================] - 17s 5ms/step - loss: 0.3973 - accuracy: 0.8586 - val_loss: 0.4159 - val_accuracy: 0.8537\n",
      "Epoch 6/20\n",
      "3375/3375 [==============================] - 18s 5ms/step - loss: 0.3924 - accuracy: 0.8602 - val_loss: 0.4132 - val_accuracy: 0.8536\n",
      "Epoch 7/20\n",
      "3375/3375 [==============================] - 19s 6ms/step - loss: 0.3887 - accuracy: 0.8610 - val_loss: 0.4111 - val_accuracy: 0.8528\n",
      "Epoch 8/20\n",
      "3375/3375 [==============================] - 18s 5ms/step - loss: 0.3857 - accuracy: 0.8618 - val_loss: 0.4102 - val_accuracy: 0.8543\n",
      "Epoch 9/20\n",
      "3375/3375 [==============================] - 18s 5ms/step - loss: 0.3831 - accuracy: 0.8621 - val_loss: 0.4082 - val_accuracy: 0.8539\n",
      "Epoch 10/20\n",
      "3375/3375 [==============================] - 18s 5ms/step - loss: 0.3809 - accuracy: 0.8621 - val_loss: 0.4082 - val_accuracy: 0.8531\n",
      "Epoch 11/20\n",
      "3375/3375 [==============================] - 18s 5ms/step - loss: 0.3788 - accuracy: 0.8632 - val_loss: 0.4070 - val_accuracy: 0.8530\n",
      "Epoch 12/20\n",
      "3375/3375 [==============================] - 18s 5ms/step - loss: 0.3768 - accuracy: 0.8635 - val_loss: 0.4056 - val_accuracy: 0.8537\n",
      "Epoch 13/20\n",
      "3375/3375 [==============================] - 18s 5ms/step - loss: 0.3748 - accuracy: 0.8639 - val_loss: 0.4049 - val_accuracy: 0.8532\n",
      "Epoch 14/20\n",
      "3375/3375 [==============================] - 18s 5ms/step - loss: 0.3728 - accuracy: 0.8638 - val_loss: 0.4053 - val_accuracy: 0.8526\n",
      "Epoch 15/20\n",
      "3375/3375 [==============================] - 18s 5ms/step - loss: 0.3708 - accuracy: 0.8648 - val_loss: 0.4033 - val_accuracy: 0.8538\n",
      "Epoch 16/20\n",
      "3375/3375 [==============================] - 18s 5ms/step - loss: 0.3689 - accuracy: 0.8651 - val_loss: 0.4028 - val_accuracy: 0.8544\n",
      "Epoch 17/20\n",
      "3375/3375 [==============================] - 18s 5ms/step - loss: 0.3671 - accuracy: 0.8656 - val_loss: 0.4020 - val_accuracy: 0.8543\n",
      "Epoch 18/20\n",
      "3375/3375 [==============================] - 18s 5ms/step - loss: 0.3652 - accuracy: 0.8661 - val_loss: 0.4011 - val_accuracy: 0.8537\n",
      "Epoch 19/20\n",
      "3375/3375 [==============================] - 18s 5ms/step - loss: 0.3634 - accuracy: 0.8668 - val_loss: 0.3996 - val_accuracy: 0.8540\n",
      "Epoch 20/20\n",
      "3375/3375 [==============================] - 18s 5ms/step - loss: 0.3615 - accuracy: 0.8676 - val_loss: 0.4002 - val_accuracy: 0.8534\n"
     ]
    }
   ],
   "source": [
    "history = model.fit(X_train, y_train, epochs=20,\n",
    "                    validation_data=(X_valid, y_valid))"
   ]
  },
  {
   "cell_type": "markdown",
   "metadata": {
    "id": "EPxiw8iCADr-",
    "pycharm": {
     "name": "#%% md\n"
    }
   },
   "source": [
    "Let's plot the loss and the accuracy trends on both training and validation sets. We define the `plot_learning_acc_and_loss` function because we will reuse it in the next steps."
   ]
  },
  {
   "cell_type": "code",
   "execution_count": 12,
   "metadata": {
    "id": "AJg-F7mUa7st",
    "vscode": {
     "languageId": "python"
    },
    "pycharm": {
     "name": "#%%\n"
    }
   },
   "outputs": [
    {
     "data": {
      "image/png": "[encoded data removed]",
      "text/plain": [
       "<Figure size 576x360 with 1 Axes>"
      ]
     },
     "metadata": {
      "needs_background": "light"
     },
     "output_type": "display_data"
    }
   ],
   "source": [
    "def plot_learning_acc_and_loss(history):\n",
    "    pd.DataFrame(history.history).plot(figsize=(8, 5))\n",
    "    plt.grid(True)\n",
    "    plt.show()\n",
    "plot_learning_acc_and_loss(history)"
   ]
  },
  {
   "cell_type": "markdown",
   "metadata": {
    "id": "9O3-sLmxansJ",
    "pycharm": {
     "name": "#%% md\n"
    }
   },
   "source": [
    "### [TO COMPLETE] Evaluate the model:\n",
    "\n",
    "Now, our model has been optimized on the training set, and as you can see the performance on the validation set in quite similar (so it does not overfit the training data). Let's now evaluate the performance of our model using the test set."
   ]
  },
  {
   "cell_type": "code",
   "execution_count": 13,
   "metadata": {
    "id": "q-ZvJEcObdyB",
    "vscode": {
     "languageId": "python"
    },
    "pycharm": {
     "name": "#%%\n"
    }
   },
   "outputs": [
    {
     "name": "stdout",
     "output_type": "stream",
     "text": [
      "238/238 [==============================] - 1s 5ms/step - loss: 0.4082 - accuracy: 0.8508\n"
     ]
    },
    {
     "data": {
      "text/plain": [
       "[0.4081822335720062, 0.8507895469665527]"
      ]
     },
     "execution_count": 13,
     "metadata": {},
     "output_type": "execute_result"
    }
   ],
   "source": [
    "model.evaluate(X_test, y_test)"
   ]
  },
  {
   "cell_type": "markdown",
   "metadata": {
    "id": "KTSxlnwrII-n",
    "pycharm": {
     "name": "#%% md\n"
    }
   },
   "source": [
    "# [TO COMPLETE] Explain why it is important to use test and validation, and why it is important to evaluate the model on the test set instead of the validation set. Finally, explain what is the usefulness of the validation set. Insert the discussion in this cell.\n",
    "It's important to use those 3 splits because each one has a specific purpose:\n",
    "1. train: data to train the model\n",
    "2. validation: unseen data used to:   \n",
    "    * used for hyperparameters tuning/optimization  \n",
    "    * evaluate different models (either by architecture, or completely different models), in order to have an unbiased evaluation of the model training/fit  \n",
    "    * in case of NN, is used to diagnose overfitting\n",
    "3. test: unseed data used to assess performance of the final model, in order to have an unbiased evaluation of the model & hyperparameter\n",
    "\n",
    "With those definition, it's clear that each one of them are important, and specifically we need the validation-test separation otherwise our evaluation of the model would be biased since evaluated on data used to \"tune\"/\"choose\" it"
   ]
  },
  {
   "cell_type": "markdown",
   "metadata": {
    "id": "aeGlzKe864Gq",
    "pycharm": {
     "name": "#%% md\n"
    }
   },
   "source": [
    "## [TO COMPLETE] Exercise 2.2: Overfiting\n",
    "\n",
    "A common problem that occurs when you train a deep neural network is overfittig. Overfitting occurs when you achieve a good fit of your model on the training data, while it does not generalize well on new, unseen data. In other words, the model learned patterns specific to the training data, which are irrelevant in other data.\n",
    "As we have seen in the previous exercise, our model does not overfit the training data. In this exercise, we try to modify the training parameters in order to have a model that overfits.\n",
    "Overfitting can have many causes and usually is a combination of some of them, for instance: too many parameters/ layers, too few training samples, wrong learning rate (usualy too high), etc..\n",
    "\n",
    "[TO COMPLETE] In the next cell define a new model (similar to the previuos one) that overfits the training data; then plot the trend of the loss in training and validation set."
   ]
  },
  {
   "cell_type": "code",
   "execution_count": 14,
   "metadata": {
    "id": "T2B2DFEC8f88",
    "vscode": {
     "languageId": "python"
    },
    "pycharm": {
     "name": "#%%\n"
    }
   },
   "outputs": [
    {
     "name": "stdout",
     "output_type": "stream",
     "text": [
      "Epoch 1/40\n",
      "3375/3375 [==============================] - 19s 5ms/step - loss: 0.4704 - accuracy: 0.8304 - val_loss: 0.4165 - val_accuracy: 0.8497\n",
      "Epoch 2/40\n",
      "3375/3375 [==============================] - 19s 6ms/step - loss: 0.3952 - accuracy: 0.8552 - val_loss: 0.4054 - val_accuracy: 0.8531\n",
      "Epoch 3/40\n",
      "3375/3375 [==============================] - 18s 5ms/step - loss: 0.3722 - accuracy: 0.8627 - val_loss: 0.3975 - val_accuracy: 0.8556\n",
      "Epoch 4/40\n",
      "3375/3375 [==============================] - 18s 5ms/step - loss: 0.3534 - accuracy: 0.8695 - val_loss: 0.3992 - val_accuracy: 0.8548\n",
      "Epoch 5/40\n",
      "3375/3375 [==============================] - 17s 5ms/step - loss: 0.3365 - accuracy: 0.8765 - val_loss: 0.3970 - val_accuracy: 0.8572\n",
      "Epoch 6/40\n",
      "3375/3375 [==============================] - 15s 5ms/step - loss: 0.3216 - accuracy: 0.8812 - val_loss: 0.3988 - val_accuracy: 0.8575\n",
      "Epoch 7/40\n",
      "3375/3375 [==============================] - 16s 5ms/step - loss: 0.3084 - accuracy: 0.8869 - val_loss: 0.4112 - val_accuracy: 0.8536\n",
      "Epoch 8/40\n",
      "3375/3375 [==============================] - 16s 5ms/step - loss: 0.2969 - accuracy: 0.8914 - val_loss: 0.4074 - val_accuracy: 0.8577\n",
      "Epoch 9/40\n",
      "3375/3375 [==============================] - 16s 5ms/step - loss: 0.2866 - accuracy: 0.8955 - val_loss: 0.4180 - val_accuracy: 0.8548\n",
      "Epoch 10/40\n",
      "3375/3375 [==============================] - 16s 5ms/step - loss: 0.2772 - accuracy: 0.8986 - val_loss: 0.4280 - val_accuracy: 0.8548\n",
      "Epoch 11/40\n",
      "3375/3375 [==============================] - 15s 5ms/step - loss: 0.2686 - accuracy: 0.9025 - val_loss: 0.4290 - val_accuracy: 0.8526\n",
      "Epoch 12/40\n",
      "3375/3375 [==============================] - 15s 5ms/step - loss: 0.2610 - accuracy: 0.9048 - val_loss: 0.4387 - val_accuracy: 0.8518\n",
      "Epoch 13/40\n",
      "3375/3375 [==============================] - 15s 5ms/step - loss: 0.2542 - accuracy: 0.9070 - val_loss: 0.4521 - val_accuracy: 0.8512\n",
      "Epoch 14/40\n",
      "3375/3375 [==============================] - 16s 5ms/step - loss: 0.2474 - accuracy: 0.9090 - val_loss: 0.4545 - val_accuracy: 0.8500\n",
      "Epoch 15/40\n",
      "3375/3375 [==============================] - 16s 5ms/step - loss: 0.2418 - accuracy: 0.9116 - val_loss: 0.4648 - val_accuracy: 0.8503\n",
      "Epoch 16/40\n",
      "3375/3375 [==============================] - 16s 5ms/step - loss: 0.2364 - accuracy: 0.9142 - val_loss: 0.4708 - val_accuracy: 0.8503\n",
      "Epoch 17/40\n",
      "3375/3375 [==============================] - 16s 5ms/step - loss: 0.2313 - accuracy: 0.9158 - val_loss: 0.4906 - val_accuracy: 0.8487\n",
      "Epoch 18/40\n",
      "3375/3375 [==============================] - 15s 5ms/step - loss: 0.2264 - accuracy: 0.9183 - val_loss: 0.4906 - val_accuracy: 0.8478\n",
      "Epoch 19/40\n",
      "3375/3375 [==============================] - 15s 4ms/step - loss: 0.2222 - accuracy: 0.9191 - val_loss: 0.5023 - val_accuracy: 0.8478\n",
      "Epoch 20/40\n",
      "3375/3375 [==============================] - 15s 4ms/step - loss: 0.2178 - accuracy: 0.9208 - val_loss: 0.5191 - val_accuracy: 0.8456\n",
      "Epoch 21/40\n",
      "3375/3375 [==============================] - 16s 5ms/step - loss: 0.2138 - accuracy: 0.9214 - val_loss: 0.5173 - val_accuracy: 0.8446\n",
      "Epoch 22/40\n",
      "3375/3375 [==============================] - 15s 5ms/step - loss: 0.2106 - accuracy: 0.9230 - val_loss: 0.5287 - val_accuracy: 0.8417\n",
      "Epoch 23/40\n",
      "3375/3375 [==============================] - 16s 5ms/step - loss: 0.2057 - accuracy: 0.9253 - val_loss: 0.5471 - val_accuracy: 0.8416\n",
      "Epoch 24/40\n",
      "3375/3375 [==============================] - 15s 5ms/step - loss: 0.2036 - accuracy: 0.9257 - val_loss: 0.5560 - val_accuracy: 0.8420\n",
      "Epoch 25/40\n",
      "3375/3375 [==============================] - 15s 5ms/step - loss: 0.1997 - accuracy: 0.9271 - val_loss: 0.5711 - val_accuracy: 0.8399\n",
      "Epoch 26/40\n",
      "3375/3375 [==============================] - 15s 4ms/step - loss: 0.1976 - accuracy: 0.9284 - val_loss: 0.5696 - val_accuracy: 0.8390\n",
      "Epoch 27/40\n",
      "3375/3375 [==============================] - 15s 4ms/step - loss: 0.1943 - accuracy: 0.9299 - val_loss: 0.5762 - val_accuracy: 0.8408\n",
      "Epoch 28/40\n",
      "3375/3375 [==============================] - 15s 4ms/step - loss: 0.1912 - accuracy: 0.9305 - val_loss: 0.5959 - val_accuracy: 0.8392\n",
      "Epoch 29/40\n",
      "3375/3375 [==============================] - 15s 4ms/step - loss: 0.1893 - accuracy: 0.9307 - val_loss: 0.6039 - val_accuracy: 0.8384\n",
      "Epoch 30/40\n",
      "3375/3375 [==============================] - 16s 5ms/step - loss: 0.1865 - accuracy: 0.9321 - val_loss: 0.6105 - val_accuracy: 0.8409\n",
      "Epoch 31/40\n",
      "3375/3375 [==============================] - 16s 5ms/step - loss: 0.1834 - accuracy: 0.9336 - val_loss: 0.6212 - val_accuracy: 0.8382\n",
      "Epoch 32/40\n",
      "3375/3375 [==============================] - 16s 5ms/step - loss: 0.1817 - accuracy: 0.9340 - val_loss: 0.6261 - val_accuracy: 0.8364\n",
      "Epoch 33/40\n",
      "3375/3375 [==============================] - 16s 5ms/step - loss: 0.1786 - accuracy: 0.9358 - val_loss: 0.6457 - val_accuracy: 0.8344\n",
      "Epoch 34/40\n",
      "3375/3375 [==============================] - 15s 4ms/step - loss: 0.1770 - accuracy: 0.9356 - val_loss: 0.6534 - val_accuracy: 0.8370\n",
      "Epoch 35/40\n",
      "3375/3375 [==============================] - 16s 5ms/step - loss: 0.1746 - accuracy: 0.9366 - val_loss: 0.6650 - val_accuracy: 0.8365\n",
      "Epoch 36/40\n",
      "3375/3375 [==============================] - 16s 5ms/step - loss: 0.1725 - accuracy: 0.9378 - val_loss: 0.6729 - val_accuracy: 0.8329\n",
      "Epoch 37/40\n",
      "3375/3375 [==============================] - 16s 5ms/step - loss: 0.1703 - accuracy: 0.9384 - val_loss: 0.6918 - val_accuracy: 0.8317\n",
      "Epoch 38/40\n",
      "3375/3375 [==============================] - 15s 5ms/step - loss: 0.1685 - accuracy: 0.9389 - val_loss: 0.6951 - val_accuracy: 0.8332\n",
      "Epoch 39/40\n",
      "3375/3375 [==============================] - 16s 5ms/step - loss: 0.1667 - accuracy: 0.9402 - val_loss: 0.7042 - val_accuracy: 0.8335\n",
      "Epoch 40/40\n",
      "3375/3375 [==============================] - 15s 5ms/step - loss: 0.1649 - accuracy: 0.9407 - val_loss: 0.7221 - val_accuracy: 0.8317\n",
      "Model Evaluation\n",
      "238/238 [==============================] - 1s 4ms/step - loss: 0.7473 - accuracy: 0.8320\n"
     ]
    },
    {
     "data": {
      "text/plain": [
       "[0.7473074793815613, 0.8319737315177917]"
      ]
     },
     "execution_count": 14,
     "metadata": {},
     "output_type": "execute_result"
    }
   ],
   "source": [
    "model = keras.models.Sequential()\n",
    "model.add(tf.keras.Input(shape=(num_words,)))\n",
    "model.add(keras.layers.Dense(24, activation=\"relu\"))\n",
    "model.add(keras.layers.Dense(24, activation=\"relu\"))\n",
    "model.add(keras.layers.Dense(4, activation=\"softmax\"))\n",
    "#[TO COMPLETE] modify the previuos model in order to obtain a new model that overfits the training data\n",
    "\n",
    "model.compile(loss=\"sparse_categorical_crossentropy\",\n",
    "              optimizer=keras.optimizers.Adam(learning_rate=0.001),#[TO COMPLETE] learning rate\n",
    "              metrics=[\"accuracy\"])\n",
    "\n",
    "history = model.fit(X_train, y_train, epochs=40,#[TO COMPLETE] epochs\n",
    "                    validation_data=(X_valid, y_valid))\n",
    "\n",
    "print(\"Model Evaluation\")\n",
    "model.evaluate(X_test, y_test)"
   ]
  },
  {
   "cell_type": "markdown",
   "metadata": {
    "id": "MS0fujEqh_m3",
    "pycharm": {
     "name": "#%% md\n"
    }
   },
   "source": [
    "Define the `plot_learning_curves` function that plots only the losses (not the accuracy)."
   ]
  },
  {
   "cell_type": "code",
   "execution_count": 15,
   "metadata": {
    "id": "q5EsklC0DZYH",
    "vscode": {
     "languageId": "python"
    },
    "pycharm": {
     "name": "#%%\n"
    }
   },
   "outputs": [
    {
     "data": {
      "image/png": "[encoded data removed]",
      "text/plain": [
       "<Figure size 576x360 with 1 Axes>"
      ]
     },
     "metadata": {
      "needs_background": "light"
     },
     "output_type": "display_data"
    }
   ],
   "source": [
    "def plot_learning_curves(history):\n",
    "    plt.figure(figsize=(8, 5))\n",
    "    plt.plot(history.epoch,history.history['loss'], label='train loss')\n",
    "    plt.plot(history.epoch,history.history['val_loss'], label='valid loss')\n",
    "    plt.legend()\n",
    "    plt.title('loss')\n",
    "    plt.grid(True)\n",
    "    plt.show()\n",
    "plot_learning_curves(history)"
   ]
  },
  {
   "cell_type": "markdown",
   "metadata": {
    "id": "OW4Kf4fgDfOs",
    "pycharm": {
     "name": "#%% md\n"
    }
   },
   "source": [
    "### [TO COMPLETE] L1 norm\n",
    "\n",
    "One possible way to solve the overitting issue is by using regularization methods. The two most common regularization methods in Deep Learning are the L1-norm regularization and the L2-norm regularization. Both These techniques are based on limiting the capacity of models, by adding a parameter norm penalty to the objective function $\\mathcal{J}$:\n",
    "$$\n",
    "\\hat{\\mathcal{J}}(\\theta,\\mathbf{X},\\mathbf{y}) = \\mathcal{J}(\\theta,\\mathbf{X},\\mathbf{y}) + \\alpha \\Omega(\\theta)\n",
    "$$\n",
    "where $\\alpha$ is a hyperparameter that weighs the relative contribution of the norm penalty $\\Omega$.\n",
    "Lets start by considering the L1-norm regularization where the regularization term is defined as:\n",
    "$$\n",
    " \\Omega(\\theta)=||\\mathbf{W}||_1=\\sum_i |\\mathbf{w}|\n",
    "$$\n",
    "Let's find the values for the $\\alpha$ parameters that allow to remove the overfitting effect."
   ]
  },
  {
   "cell_type": "code",
   "execution_count": 16,
   "metadata": {
    "id": "QzD8520dDgw3",
    "vscode": {
     "languageId": "python"
    },
    "pycharm": {
     "name": "#%%\n"
    }
   },
   "outputs": [
    {
     "name": "stdout",
     "output_type": "stream",
     "text": [
      "Epoch 1/40\n",
      "3375/3375 [==============================] - 17s 5ms/step - loss: 0.9721 - accuracy: 0.8169 - val_loss: 0.8191 - val_accuracy: 0.8336\n",
      "Epoch 2/40\n",
      "3375/3375 [==============================] - 18s 5ms/step - loss: 0.7679 - accuracy: 0.8403 - val_loss: 0.7374 - val_accuracy: 0.8449\n",
      "Epoch 3/40\n",
      "3375/3375 [==============================] - 18s 5ms/step - loss: 0.7195 - accuracy: 0.8427 - val_loss: 0.7110 - val_accuracy: 0.8422\n",
      "Epoch 4/40\n",
      "3375/3375 [==============================] - 16s 5ms/step - loss: 0.6942 - accuracy: 0.8435 - val_loss: 0.7011 - val_accuracy: 0.8342\n",
      "Epoch 5/40\n",
      "3375/3375 [==============================] - 17s 5ms/step - loss: 0.6776 - accuracy: 0.8435 - val_loss: 0.6738 - val_accuracy: 0.8422\n",
      "Epoch 6/40\n",
      "3375/3375 [==============================] - 17s 5ms/step - loss: 0.6639 - accuracy: 0.8441 - val_loss: 0.6650 - val_accuracy: 0.8442\n",
      "Epoch 7/40\n",
      "3375/3375 [==============================] - 17s 5ms/step - loss: 0.6552 - accuracy: 0.8451 - val_loss: 0.6693 - val_accuracy: 0.8393\n",
      "Epoch 8/40\n",
      "3375/3375 [==============================] - 16s 5ms/step - loss: 0.6518 - accuracy: 0.8437 - val_loss: 0.6526 - val_accuracy: 0.8469\n",
      "Epoch 9/40\n",
      "3375/3375 [==============================] - 22s 6ms/step - loss: 0.6471 - accuracy: 0.8446 - val_loss: 0.6564 - val_accuracy: 0.8403\n",
      "Epoch 10/40\n",
      "3375/3375 [==============================] - 17s 5ms/step - loss: 0.6455 - accuracy: 0.8445 - val_loss: 0.6537 - val_accuracy: 0.8442\n",
      "Epoch 11/40\n",
      "3375/3375 [==============================] - 17s 5ms/step - loss: 0.6438 - accuracy: 0.8439 - val_loss: 0.6471 - val_accuracy: 0.8427\n",
      "Epoch 12/40\n",
      "3375/3375 [==============================] - 18s 5ms/step - loss: 0.6421 - accuracy: 0.8438 - val_loss: 0.6434 - val_accuracy: 0.8451\n",
      "Epoch 13/40\n",
      "3375/3375 [==============================] - 17s 5ms/step - loss: 0.6408 - accuracy: 0.8444 - val_loss: 0.6375 - val_accuracy: 0.8453\n",
      "Epoch 14/40\n",
      "3375/3375 [==============================] - 17s 5ms/step - loss: 0.6379 - accuracy: 0.8453 - val_loss: 0.6459 - val_accuracy: 0.8403\n",
      "Epoch 15/40\n",
      "3375/3375 [==============================] - 17s 5ms/step - loss: 0.6367 - accuracy: 0.8447 - val_loss: 0.6378 - val_accuracy: 0.8447\n",
      "Epoch 16/40\n",
      "3375/3375 [==============================] - 16s 5ms/step - loss: 0.6352 - accuracy: 0.8446 - val_loss: 0.6388 - val_accuracy: 0.8432\n",
      "Epoch 17/40\n",
      "3375/3375 [==============================] - 16s 5ms/step - loss: 0.6337 - accuracy: 0.8451 - val_loss: 0.6372 - val_accuracy: 0.8481\n",
      "Epoch 18/40\n",
      "3375/3375 [==============================] - 16s 5ms/step - loss: 0.6328 - accuracy: 0.8449 - val_loss: 0.6365 - val_accuracy: 0.8420\n",
      "Epoch 19/40\n",
      "3375/3375 [==============================] - 16s 5ms/step - loss: 0.6320 - accuracy: 0.8447 - val_loss: 0.6341 - val_accuracy: 0.8451\n",
      "Epoch 20/40\n",
      "3375/3375 [==============================] - 16s 5ms/step - loss: 0.6306 - accuracy: 0.8450 - val_loss: 0.6459 - val_accuracy: 0.8437\n",
      "Epoch 21/40\n",
      "3375/3375 [==============================] - 16s 5ms/step - loss: 0.6302 - accuracy: 0.8449 - val_loss: 0.6382 - val_accuracy: 0.8428\n",
      "Epoch 22/40\n",
      "3375/3375 [==============================] - 17s 5ms/step - loss: 0.6289 - accuracy: 0.8446 - val_loss: 0.6378 - val_accuracy: 0.8416\n",
      "Epoch 23/40\n",
      "3375/3375 [==============================] - 17s 5ms/step - loss: 0.6276 - accuracy: 0.8450 - val_loss: 0.6311 - val_accuracy: 0.8436\n",
      "Epoch 24/40\n",
      "3375/3375 [==============================] - 17s 5ms/step - loss: 0.6272 - accuracy: 0.8444 - val_loss: 0.6307 - val_accuracy: 0.8432\n",
      "Epoch 25/40\n",
      "3375/3375 [==============================] - 17s 5ms/step - loss: 0.6271 - accuracy: 0.8453 - val_loss: 0.6267 - val_accuracy: 0.8459\n",
      "Epoch 26/40\n",
      "3375/3375 [==============================] - 18s 5ms/step - loss: 0.6267 - accuracy: 0.8444 - val_loss: 0.6358 - val_accuracy: 0.8410\n",
      "Epoch 27/40\n",
      "3375/3375 [==============================] - 18s 5ms/step - loss: 0.6258 - accuracy: 0.8456 - val_loss: 0.6324 - val_accuracy: 0.8417\n",
      "Epoch 28/40\n",
      "3375/3375 [==============================] - 17s 5ms/step - loss: 0.6261 - accuracy: 0.8454 - val_loss: 0.6281 - val_accuracy: 0.8433\n",
      "Epoch 29/40\n",
      "3375/3375 [==============================] - 16s 5ms/step - loss: 0.6249 - accuracy: 0.8447 - val_loss: 0.6271 - val_accuracy: 0.8441\n",
      "Epoch 30/40\n",
      "3375/3375 [==============================] - 17s 5ms/step - loss: 0.6236 - accuracy: 0.8452 - val_loss: 0.6312 - val_accuracy: 0.8461\n",
      "Epoch 31/40\n",
      "3375/3375 [==============================] - 18s 5ms/step - loss: 0.6245 - accuracy: 0.8443 - val_loss: 0.6349 - val_accuracy: 0.8446\n",
      "Epoch 32/40\n",
      "3375/3375 [==============================] - 17s 5ms/step - loss: 0.6240 - accuracy: 0.8454 - val_loss: 0.6292 - val_accuracy: 0.8407\n",
      "Epoch 33/40\n",
      "3375/3375 [==============================] - 17s 5ms/step - loss: 0.6231 - accuracy: 0.8454 - val_loss: 0.6340 - val_accuracy: 0.8442\n",
      "Epoch 34/40\n",
      "3375/3375 [==============================] - 17s 5ms/step - loss: 0.6228 - accuracy: 0.8447 - val_loss: 0.6327 - val_accuracy: 0.8453\n",
      "Epoch 35/40\n",
      "3375/3375 [==============================] - 17s 5ms/step - loss: 0.6240 - accuracy: 0.8445 - val_loss: 0.6319 - val_accuracy: 0.8407\n",
      "Epoch 36/40\n",
      "3375/3375 [==============================] - 17s 5ms/step - loss: 0.6225 - accuracy: 0.8450 - val_loss: 0.6344 - val_accuracy: 0.8431\n",
      "Epoch 37/40\n",
      "3375/3375 [==============================] - 17s 5ms/step - loss: 0.6226 - accuracy: 0.8450 - val_loss: 0.6411 - val_accuracy: 0.8387\n",
      "Epoch 38/40\n",
      "3375/3375 [==============================] - 18s 5ms/step - loss: 0.6213 - accuracy: 0.8452 - val_loss: 0.6256 - val_accuracy: 0.8442\n",
      "Epoch 39/40\n",
      "3375/3375 [==============================] - 17s 5ms/step - loss: 0.6216 - accuracy: 0.8449 - val_loss: 0.6270 - val_accuracy: 0.8431\n",
      "Epoch 40/40\n",
      "3375/3375 [==============================] - 17s 5ms/step - loss: 0.6208 - accuracy: 0.8453 - val_loss: 0.6270 - val_accuracy: 0.8473\n",
      "Model Evaluation\n",
      "238/238 [==============================] - 1s 4ms/step - loss: 0.6386 - accuracy: 0.8374\n"
     ]
    },
    {
     "data": {
      "image/png": "[encoded data removed]",
      "text/plain": [
       "<Figure size 576x360 with 1 Axes>"
      ]
     },
     "metadata": {
      "needs_background": "light"
     },
     "output_type": "display_data"
    }
   ],
   "source": [
    "#In Keras is neccesary to add the regularizer by using the attribute kernel_regularizer\n",
    "#to each layer whose weights will be considered in the Omega function.\n",
    "#is it also possibile to consider the bias by using the attribute bias_regularizer \n",
    "#tf.keras.regularizers.l1(alpha) perfroms the L1-norm regularization\n",
    "\n",
    "#[TO COMPLETE] copy the model that you previously defined that overfits the \n",
    "#training data, and add the L1-norm regularization. Use a proper value for the\n",
    "#alpha hyper-parameter, that prevents the model from overfitting. The results  \n",
    "#reached by the model in terms of loss and accuracy (in all data sets) should be\n",
    "#comparable with the ones obtained by the initial model defined in Exercise 2.1 \n",
    "\n",
    "#In general, a layer that exploits L1-norm regularization is defined as follows:\n",
    "\n",
    "#model.add(keras.layers.Dense(units=[TO COMPLETE], activation=[TO COMPLETE], kernel_regularizer=tf.keras.regularizers.l1([TO COMPLETE]))) \n",
    "\n",
    "model = keras.models.Sequential()\n",
    "model.add(tf.keras.Input(shape=(num_words,)))\n",
    "model.add(keras.layers.Dense(24, activation=\"relu\", kernel_regularizer=tf.keras.regularizers.l1(1e-3)))\n",
    "model.add(keras.layers.Dense(24, activation=\"relu\", kernel_regularizer=tf.keras.regularizers.l1(1e-3)))\n",
    "model.add(keras.layers.Dense(4, activation=\"softmax\", kernel_regularizer=tf.keras.regularizers.l1(1e-3)))\n",
    "\n",
    "\n",
    "model.compile(loss=\"sparse_categorical_crossentropy\",\n",
    "              optimizer=keras.optimizers.Adam(learning_rate=0.001),#[TO COMPLETE] learning rate\n",
    "              metrics=[\"accuracy\"])\n",
    "\n",
    "history = model.fit(X_train, y_train, epochs=40,#[TO COMPLETE] epochs\n",
    "                    validation_data=(X_valid, y_valid))\n",
    "\n",
    "print(\"Model Evaluation\")\n",
    "model.evaluate(X_test, y_test)\n",
    "plot_learning_curves(history)"
   ]
  },
  {
   "cell_type": "markdown",
   "metadata": {
    "id": "CgnCGYUvDqbC",
    "pycharm": {
     "name": "#%% md\n"
    }
   },
   "source": [
    "### [TO COMPLETE] L2-norm\n",
    "\n",
    "L2-norm regularization is also known as weight decay. This strategy drives the weights closer to the origin by adding the regularization term omega which is defined as:\n",
    "$$\n",
    " \\Omega(\\theta)=\\frac{1}{2}||\\mathbf{W}||_2^2\n",
    "$$\n",
    "\n",
    "Let's find the values for the $\\alpha$ parameters that allow removing remove the overfitting effect with L2-norm."
   ]
  },
  {
   "cell_type": "code",
   "execution_count": 17,
   "metadata": {
    "id": "qqNhu350DtJo",
    "vscode": {
     "languageId": "python"
    },
    "pycharm": {
     "name": "#%%\n"
    }
   },
   "outputs": [
    {
     "name": "stdout",
     "output_type": "stream",
     "text": [
      "Epoch 1/40\n",
      "3375/3375 [==============================] - 17s 5ms/step - loss: 0.6879 - accuracy: 0.8184 - val_loss: 0.6397 - val_accuracy: 0.8294\n",
      "Epoch 2/40\n",
      "3375/3375 [==============================] - 16s 5ms/step - loss: 0.6307 - accuracy: 0.8289 - val_loss: 0.6130 - val_accuracy: 0.8343\n",
      "Epoch 3/40\n",
      "3375/3375 [==============================] - 16s 5ms/step - loss: 0.6104 - accuracy: 0.8327 - val_loss: 0.6131 - val_accuracy: 0.8299\n",
      "Epoch 4/40\n",
      "3375/3375 [==============================] - 16s 5ms/step - loss: 0.6052 - accuracy: 0.8328 - val_loss: 0.6049 - val_accuracy: 0.8294\n",
      "Epoch 5/40\n",
      "3375/3375 [==============================] - 16s 5ms/step - loss: 0.6001 - accuracy: 0.8324 - val_loss: 0.6039 - val_accuracy: 0.8282\n",
      "Epoch 6/40\n",
      "3375/3375 [==============================] - 16s 5ms/step - loss: 0.5977 - accuracy: 0.8333 - val_loss: 0.6007 - val_accuracy: 0.8311\n",
      "Epoch 7/40\n",
      "3375/3375 [==============================] - 16s 5ms/step - loss: 0.5968 - accuracy: 0.8338 - val_loss: 0.6048 - val_accuracy: 0.8325\n",
      "Epoch 8/40\n",
      "3375/3375 [==============================] - 16s 5ms/step - loss: 0.5970 - accuracy: 0.8333 - val_loss: 0.5950 - val_accuracy: 0.8370\n",
      "Epoch 9/40\n",
      "3375/3375 [==============================] - 16s 5ms/step - loss: 0.5946 - accuracy: 0.8346 - val_loss: 0.5999 - val_accuracy: 0.8361\n",
      "Epoch 10/40\n",
      "3375/3375 [==============================] - 16s 5ms/step - loss: 0.5952 - accuracy: 0.8339 - val_loss: 0.6130 - val_accuracy: 0.8298\n",
      "Epoch 11/40\n",
      "3375/3375 [==============================] - 16s 5ms/step - loss: 0.5932 - accuracy: 0.8343 - val_loss: 0.5972 - val_accuracy: 0.8321\n",
      "Epoch 12/40\n",
      "3375/3375 [==============================] - 16s 5ms/step - loss: 0.5926 - accuracy: 0.8341 - val_loss: 0.5930 - val_accuracy: 0.8353\n",
      "Epoch 13/40\n",
      "3375/3375 [==============================] - 16s 5ms/step - loss: 0.5936 - accuracy: 0.8334 - val_loss: 0.5839 - val_accuracy: 0.8384\n",
      "Epoch 14/40\n",
      "3375/3375 [==============================] - 16s 5ms/step - loss: 0.5916 - accuracy: 0.8348 - val_loss: 0.6088 - val_accuracy: 0.8250\n",
      "Epoch 15/40\n",
      "3375/3375 [==============================] - 16s 5ms/step - loss: 0.5914 - accuracy: 0.8333 - val_loss: 0.5890 - val_accuracy: 0.8384\n",
      "Epoch 16/40\n",
      "3375/3375 [==============================] - 16s 5ms/step - loss: 0.5905 - accuracy: 0.8345 - val_loss: 0.5972 - val_accuracy: 0.8302\n",
      "Epoch 17/40\n",
      "3375/3375 [==============================] - 16s 5ms/step - loss: 0.5898 - accuracy: 0.8352 - val_loss: 0.5904 - val_accuracy: 0.8389\n",
      "Epoch 18/40\n",
      "3375/3375 [==============================] - 16s 5ms/step - loss: 0.5894 - accuracy: 0.8353 - val_loss: 0.5876 - val_accuracy: 0.8338\n",
      "Epoch 19/40\n",
      "3375/3375 [==============================] - 16s 5ms/step - loss: 0.5894 - accuracy: 0.8338 - val_loss: 0.5841 - val_accuracy: 0.8360\n",
      "Epoch 20/40\n",
      "3375/3375 [==============================] - 16s 5ms/step - loss: 0.5888 - accuracy: 0.8341 - val_loss: 0.5999 - val_accuracy: 0.8298\n",
      "Epoch 21/40\n",
      "3375/3375 [==============================] - 16s 5ms/step - loss: 0.5894 - accuracy: 0.8344 - val_loss: 0.5983 - val_accuracy: 0.8321\n",
      "Epoch 22/40\n",
      "3375/3375 [==============================] - 16s 5ms/step - loss: 0.5896 - accuracy: 0.8351 - val_loss: 0.5960 - val_accuracy: 0.8336\n",
      "Epoch 23/40\n",
      "3375/3375 [==============================] - 16s 5ms/step - loss: 0.5880 - accuracy: 0.8347 - val_loss: 0.5961 - val_accuracy: 0.8330\n",
      "Epoch 24/40\n",
      "3375/3375 [==============================] - 16s 5ms/step - loss: 0.5883 - accuracy: 0.8345 - val_loss: 0.6023 - val_accuracy: 0.8313\n",
      "Epoch 25/40\n",
      "3375/3375 [==============================] - 16s 5ms/step - loss: 0.5890 - accuracy: 0.8349 - val_loss: 0.5873 - val_accuracy: 0.8370\n",
      "Epoch 26/40\n",
      "3375/3375 [==============================] - 16s 5ms/step - loss: 0.5886 - accuracy: 0.8340 - val_loss: 0.6094 - val_accuracy: 0.8254\n",
      "Epoch 27/40\n",
      "3375/3375 [==============================] - 16s 5ms/step - loss: 0.5886 - accuracy: 0.8358 - val_loss: 0.6008 - val_accuracy: 0.8282\n",
      "Epoch 28/40\n",
      "3375/3375 [==============================] - 16s 5ms/step - loss: 0.5887 - accuracy: 0.8342 - val_loss: 0.5911 - val_accuracy: 0.8327\n",
      "Epoch 29/40\n",
      "3375/3375 [==============================] - 16s 5ms/step - loss: 0.5890 - accuracy: 0.8345 - val_loss: 0.5902 - val_accuracy: 0.8379\n",
      "Epoch 30/40\n",
      "3375/3375 [==============================] - 16s 5ms/step - loss: 0.5875 - accuracy: 0.8344 - val_loss: 0.5923 - val_accuracy: 0.8352\n",
      "Epoch 31/40\n",
      "3375/3375 [==============================] - 16s 5ms/step - loss: 0.5887 - accuracy: 0.8348 - val_loss: 0.5922 - val_accuracy: 0.8368\n",
      "Epoch 32/40\n",
      "3375/3375 [==============================] - 16s 5ms/step - loss: 0.5878 - accuracy: 0.8342 - val_loss: 0.5916 - val_accuracy: 0.8323\n",
      "Epoch 33/40\n",
      "3375/3375 [==============================] - 16s 5ms/step - loss: 0.5883 - accuracy: 0.8345 - val_loss: 0.5866 - val_accuracy: 0.8381\n",
      "Epoch 34/40\n",
      "3375/3375 [==============================] - 16s 5ms/step - loss: 0.5879 - accuracy: 0.8347 - val_loss: 0.6012 - val_accuracy: 0.8295\n",
      "Epoch 35/40\n",
      "3375/3375 [==============================] - 16s 5ms/step - loss: 0.5893 - accuracy: 0.8343 - val_loss: 0.5920 - val_accuracy: 0.8337\n",
      "Epoch 36/40\n",
      "3375/3375 [==============================] - 16s 5ms/step - loss: 0.5877 - accuracy: 0.8345 - val_loss: 0.5937 - val_accuracy: 0.8372\n",
      "Epoch 37/40\n",
      "3375/3375 [==============================] - 16s 5ms/step - loss: 0.5878 - accuracy: 0.8349 - val_loss: 0.6081 - val_accuracy: 0.8266\n",
      "Epoch 38/40\n",
      "3375/3375 [==============================] - 16s 5ms/step - loss: 0.5888 - accuracy: 0.8355 - val_loss: 0.5912 - val_accuracy: 0.8363\n",
      "Epoch 39/40\n",
      "3375/3375 [==============================] - 16s 5ms/step - loss: 0.5872 - accuracy: 0.8346 - val_loss: 0.5901 - val_accuracy: 0.8356\n",
      "Epoch 40/40\n",
      "3375/3375 [==============================] - 16s 5ms/step - loss: 0.5879 - accuracy: 0.8342 - val_loss: 0.5885 - val_accuracy: 0.8362\n",
      "Model Evaluation\n",
      "238/238 [==============================] - 1s 4ms/step - loss: 0.5929 - accuracy: 0.8333\n"
     ]
    },
    {
     "data": {
      "image/png": "[encoded data removed]",
      "text/plain": [
       "<Figure size 576x360 with 1 Axes>"
      ]
     },
     "metadata": {
      "needs_background": "light"
     },
     "output_type": "display_data"
    }
   ],
   "source": [
    "#[TO COMPLETE] insert the model that you previously defined that overfit the \n",
    "#trainig data, and add the L2-norm regularization. Use proper values for the\n",
    "#alpha hyper-parameters, that prevents the model from overfitting. The results  \n",
    "#reached by the model in terms of loss and accuracy (in all data sets) should be\n",
    "#comparable with the ones obtained by the initial model defined in Exercise 2.1\n",
    "\n",
    "#In general, a layer that exploits L2-norm regularization is defined as follow:\n",
    "\n",
    "#model.add(keras.layers.Dense(units=[TO COMPLETE], activation=[TO COMPLETE],kernel_regularizer=tf.keras.regularizers.l2([TO COMPLETE]))) \n",
    "\n",
    "model = keras.models.Sequential()\n",
    "model.add(tf.keras.Input(shape=(num_words,)))\n",
    "model.add(keras.layers.Dense(24, activation=\"relu\", kernel_regularizer=tf.keras.regularizers.l2(1e-3)))\n",
    "model.add(keras.layers.Dense(24, activation=\"relu\", kernel_regularizer=tf.keras.regularizers.l2(1e-3)))\n",
    "model.add(keras.layers.Dense(4, activation=\"softmax\", kernel_regularizer=tf.keras.regularizers.l2(1e-3)))\n",
    "\n",
    "model.compile(loss=\"sparse_categorical_crossentropy\",\n",
    "              optimizer=keras.optimizers.Adam(learning_rate=0.001),#[TO COMPLETE] learning rate\n",
    "              metrics=[\"accuracy\"])\n",
    "\n",
    "history = model.fit(X_train, y_train, epochs=40,#[TO COMPLETE] epochs\n",
    "                    validation_data=(X_valid, y_valid))\n",
    "\n",
    "print(\"Model Evaluation\")\n",
    "model.evaluate(X_test, y_test)\n",
    "plot_learning_curves(history)"
   ]
  },
  {
   "cell_type": "markdown",
   "metadata": {
    "id": "xvyKPb4DD25G",
    "pycharm": {
     "name": "#%% md\n"
    }
   },
   "source": [
    "### [TO COMPLETE] Early stopping\n",
    "\n",
    "Early Stopping is a form of regularization used to avoid overfitting. It is designed to monitor the generalization error of one model and stop training when generalization error begins to degrade. In order to evaluate the generalization error, early stopping requires that a validation dataset is evaluated during training. Then, when the validation error does not improve for a specific number of epochs (`patience` hyper-parameter), it stops the training phase."
   ]
  },
  {
   "cell_type": "code",
   "execution_count": 24,
   "metadata": {
    "id": "MqNOOZ11D7cq",
    "vscode": {
     "languageId": "python"
    },
    "pycharm": {
     "name": "#%%\n"
    }
   },
   "outputs": [
    {
     "name": "stdout",
     "output_type": "stream",
     "text": [
      "Epoch 1/40\n",
      "3375/3375 [==============================] - 16s 5ms/step - loss: 0.4710 - accuracy: 0.8309 - val_loss: 0.4137 - val_accuracy: 0.8511\n",
      "Epoch 2/40\n",
      "3375/3375 [==============================] - 16s 5ms/step - loss: 0.3932 - accuracy: 0.8559 - val_loss: 0.4013 - val_accuracy: 0.8545\n",
      "Epoch 3/40\n",
      "3375/3375 [==============================] - 16s 5ms/step - loss: 0.3678 - accuracy: 0.8641 - val_loss: 0.3927 - val_accuracy: 0.8561\n",
      "Epoch 4/40\n",
      "3375/3375 [==============================] - 16s 5ms/step - loss: 0.3473 - accuracy: 0.8714 - val_loss: 0.3923 - val_accuracy: 0.8591\n",
      "Epoch 5/40\n",
      "3375/3375 [==============================] - 16s 5ms/step - loss: 0.3303 - accuracy: 0.8795 - val_loss: 0.3921 - val_accuracy: 0.8561\n",
      "Epoch 6/40\n",
      "3375/3375 [==============================] - 16s 5ms/step - loss: 0.3148 - accuracy: 0.8839 - val_loss: 0.4038 - val_accuracy: 0.8553\n",
      "Epoch 7/40\n",
      "3375/3375 [==============================] - 16s 5ms/step - loss: 0.3011 - accuracy: 0.8894 - val_loss: 0.4140 - val_accuracy: 0.8494\n",
      "Epoch 8/40\n",
      "3375/3375 [==============================] - 16s 5ms/step - loss: 0.2900 - accuracy: 0.8934 - val_loss: 0.4131 - val_accuracy: 0.8527\n",
      "Epoch 9/40\n",
      "3375/3375 [==============================] - 16s 5ms/step - loss: 0.2788 - accuracy: 0.8985 - val_loss: 0.4293 - val_accuracy: 0.8493\n",
      "Epoch 10/40\n",
      "3375/3375 [==============================] - 16s 5ms/step - loss: 0.2698 - accuracy: 0.9011 - val_loss: 0.4366 - val_accuracy: 0.8485\n",
      "Epoch 11/40\n",
      "3375/3375 [==============================] - 16s 5ms/step - loss: 0.2614 - accuracy: 0.9043 - val_loss: 0.4432 - val_accuracy: 0.8499\n",
      "Epoch 12/40\n",
      "3375/3375 [==============================] - 16s 5ms/step - loss: 0.2532 - accuracy: 0.9076 - val_loss: 0.4542 - val_accuracy: 0.8490\n",
      "Model Evaluation\n",
      "238/238 [==============================] - 1s 4ms/step - loss: 0.3959 - accuracy: 0.8542\n"
     ]
    },
    {
     "data": {
      "image/png": "[encoded data removed]",
      "text/plain": [
       "<Figure size 576x360 with 1 Axes>"
      ]
     },
     "metadata": {
      "needs_background": "light"
     },
     "output_type": "display_data"
    }
   ],
   "source": [
    "#[TO COMPLETE] insert the model that you previously defined that overfit the \n",
    "#trainnig data\n",
    "model = keras.models.Sequential()\n",
    "model.add(tf.keras.Input(shape=(num_words,)))\n",
    "model.add(keras.layers.Dense(24, activation=\"relu\"))\n",
    "model.add(keras.layers.Dense(24, activation=\"relu\"))\n",
    "model.add(keras.layers.Dense(4, activation=\"softmax\"))\n",
    "\n",
    "\n",
    "model.compile(loss=\"sparse_categorical_crossentropy\",\n",
    "              optimizer=keras.optimizers.Adam(learning_rate=0.001),#[TO COMPLETE] learning rate\n",
    "              metrics=[\"accuracy\"])\n",
    "\n",
    "#Let's define a log dir in order to save the checkpoint file\n",
    "logdir = os.path.join(os.curdir, \"my_logs\", \"run_{}\".format(time.time()))\n",
    "\n",
    "#In Keras the early stopping is manage by using the callbacks argument.\n",
    "callbacks = [\n",
    "    keras.callbacks.TensorBoard(logdir),\n",
    "    keras.callbacks.EarlyStopping(patience=7),#[TO COMPLETE] play with patience and find the value that prevents the model from overfitting.\n",
    "\n",
    "\n",
    "    #Saving the checkpoints file allows to load the \"best\" model when the Early \n",
    "    #stopping detect that the generalization error degrade (after 'patience' epochs)\n",
    "    keras.callbacks.ModelCheckpoint(\"my_mnist_model.h5\", save_best_only=True),\n",
    "]\n",
    "\n",
    "history = model.fit(X_train, y_train, epochs=40,#[TO COMPLETE] epochs\n",
    "                    validation_data=(X_valid, y_valid),\n",
    "                    callbacks=callbacks)\n",
    "\n",
    "print(\"Model Evaluation\")\n",
    "#The early stopping stopped training after few epochs without progress, so your\n",
    "#model may already have started to overfit the training set. Since the \n",
    "#ModelCheckpoint callback only saved the best models (on the validation set) the\n",
    "#last saved model is the best on the validation set.\n",
    "model = keras.models.load_model(\"my_mnist_model.h5\")\n",
    "model.evaluate(X_test, y_test)\n",
    "plot_learning_curves(history)"
   ]
  },
  {
   "cell_type": "markdown",
   "metadata": {
    "id": "DCV8pwVzl9GK",
    "pycharm": {
     "name": "#%% md\n"
    }
   },
   "source": [
    "\n",
    "## Exercise 2.3: Model Selection\n",
    "\n",
    "Hyperparameters are the parameters of the learning method itself which we have to specify a priori, i.e., before model fitting. In contrast, model parameters are parameters which arise as a result of the fit (the network weights). The aim of model selection is selecting the best hyperparameters for our deep network. Finding the right hyperparameters for a model can be crucial for the model performance on given data. For istance lets consider our model trained by using different values for the learning rate: "
   ]
  },
  {
   "cell_type": "code",
   "execution_count": 25,
   "metadata": {
    "id": "Fw8Hs-AEmLKh",
    "vscode": {
     "languageId": "python"
    },
    "pycharm": {
     "name": "#%%\n"
    }
   },
   "outputs": [],
   "source": [
    "learning_rates = [1e-4, 1e-2, 1e-1]"
   ]
  },
  {
   "cell_type": "code",
   "execution_count": 26,
   "metadata": {
    "id": "mym4GOgUmWqD",
    "vscode": {
     "languageId": "python"
    },
    "pycharm": {
     "name": "#%%\n"
    }
   },
   "outputs": [
    {
     "name": "stdout",
     "output_type": "stream",
     "text": [
      "Epoch 1/10\n",
      "3375/3375 [==============================] - 15s 4ms/step - loss: 0.8245 - accuracy: 0.7069 - val_loss: 0.5050 - val_accuracy: 0.8316\n",
      "Epoch 2/10\n",
      "3375/3375 [==============================] - 15s 4ms/step - loss: 0.4555 - accuracy: 0.8434 - val_loss: 0.4457 - val_accuracy: 0.8462\n",
      "Epoch 3/10\n",
      "3375/3375 [==============================] - 15s 4ms/step - loss: 0.4204 - accuracy: 0.8532 - val_loss: 0.4309 - val_accuracy: 0.8509\n",
      "Epoch 4/10\n",
      "3375/3375 [==============================] - 15s 4ms/step - loss: 0.4066 - accuracy: 0.8569 - val_loss: 0.4225 - val_accuracy: 0.8504\n",
      "Epoch 5/10\n",
      "3375/3375 [==============================] - 15s 4ms/step - loss: 0.3986 - accuracy: 0.8586 - val_loss: 0.4186 - val_accuracy: 0.8518\n",
      "Epoch 6/10\n",
      "3375/3375 [==============================] - 15s 4ms/step - loss: 0.3929 - accuracy: 0.8598 - val_loss: 0.4152 - val_accuracy: 0.8516\n",
      "Epoch 7/10\n",
      "3375/3375 [==============================] - 15s 4ms/step - loss: 0.3883 - accuracy: 0.8609 - val_loss: 0.4120 - val_accuracy: 0.8527\n",
      "Epoch 8/10\n",
      "3375/3375 [==============================] - 15s 4ms/step - loss: 0.3843 - accuracy: 0.8619 - val_loss: 0.4103 - val_accuracy: 0.8531\n",
      "Epoch 9/10\n",
      "3375/3375 [==============================] - 15s 4ms/step - loss: 0.3808 - accuracy: 0.8631 - val_loss: 0.4073 - val_accuracy: 0.8545\n",
      "Epoch 10/10\n",
      "3375/3375 [==============================] - 15s 4ms/step - loss: 0.3778 - accuracy: 0.8630 - val_loss: 0.4064 - val_accuracy: 0.8556\n",
      "evaluation on test set\n",
      "238/238 [==============================] - 1s 4ms/step - loss: 0.4149 - accuracy: 0.8480\n",
      "Epoch 1/10\n",
      "3375/3375 [==============================] - 15s 4ms/step - loss: 0.4633 - accuracy: 0.8318 - val_loss: 0.4343 - val_accuracy: 0.8475\n",
      "Epoch 2/10\n",
      "3375/3375 [==============================] - 15s 4ms/step - loss: 0.4080 - accuracy: 0.8523 - val_loss: 0.4210 - val_accuracy: 0.8490\n",
      "Epoch 3/10\n",
      "3375/3375 [==============================] - 15s 4ms/step - loss: 0.3868 - accuracy: 0.8596 - val_loss: 0.4123 - val_accuracy: 0.8553\n",
      "Epoch 4/10\n",
      "3375/3375 [==============================] - 15s 4ms/step - loss: 0.3698 - accuracy: 0.8655 - val_loss: 0.4253 - val_accuracy: 0.8535\n",
      "Epoch 5/10\n",
      "3375/3375 [==============================] - 16s 5ms/step - loss: 0.3572 - accuracy: 0.8706 - val_loss: 0.4151 - val_accuracy: 0.8540\n",
      "evaluation on test set\n",
      "238/238 [==============================] - 1s 4ms/step - loss: 0.4290 - accuracy: 0.8467\n",
      "Epoch 1/10\n",
      "3375/3375 [==============================] - 16s 5ms/step - loss: 0.6909 - accuracy: 0.7699 - val_loss: 0.6800 - val_accuracy: 0.7815\n",
      "Epoch 2/10\n",
      "3375/3375 [==============================] - 16s 5ms/step - loss: 0.6773 - accuracy: 0.7866 - val_loss: 0.6623 - val_accuracy: 0.7952\n",
      "Epoch 3/10\n",
      "3375/3375 [==============================] - 16s 5ms/step - loss: 0.7458 - accuracy: 0.7296 - val_loss: 0.8738 - val_accuracy: 0.6372\n",
      "Epoch 4/10\n",
      "3375/3375 [==============================] - 16s 5ms/step - loss: 0.9445 - accuracy: 0.5832 - val_loss: 1.1200 - val_accuracy: 0.4617\n",
      "evaluation on test set\n",
      "238/238 [==============================] - 1s 4ms/step - loss: 1.1238 - accuracy: 0.4637\n"
     ]
    }
   ],
   "source": [
    "histories = []\n",
    "for learning_rate in learning_rates:\n",
    "    model = keras.models.Sequential([\n",
    "                                    tf.keras.Input(shape=(num_words,)),\n",
    "                                    keras.layers.Dense(16, activation=\"relu\"),\n",
    "                                    keras.layers.Dense(16, activation=\"relu\"),\n",
    "                                    keras.layers.Dense(4, activation=\"softmax\")\n",
    "                                     ])\n",
    "    model.compile(loss=\"sparse_categorical_crossentropy\",\n",
    "              optimizer=keras.optimizers.Adam(learning_rate=learning_rate),\n",
    "              metrics=[\"accuracy\"])\n",
    "              \n",
    "    callbacks = [keras.callbacks.EarlyStopping(patience=2)]\n",
    "\n",
    "    history = model.fit(X_train, y_train,\n",
    "                        validation_data=(X_valid, y_valid), epochs=10,\n",
    "                        callbacks=callbacks)\n",
    "    histories.append(history)\n",
    "    print(\"evaluation on test set\")\n",
    "    model.evaluate(X_test, y_test)"
   ]
  },
  {
   "cell_type": "markdown",
   "metadata": {
    "id": "RzTSjfwptkHJ",
    "pycharm": {
     "name": "#%% md\n"
    }
   },
   "source": [
    "Let's plot the results"
   ]
  },
  {
   "cell_type": "code",
   "execution_count": 27,
   "metadata": {
    "id": "cIlN1vlioIYh",
    "vscode": {
     "languageId": "python"
    },
    "pycharm": {
     "name": "#%%\n"
    }
   },
   "outputs": [
    {
     "name": "stdout",
     "output_type": "stream",
     "text": [
      "Learning rate: 0.0001\n"
     ]
    },
    {
     "data": {
      "image/png": "[encoded data removed]",
      "text/plain": [
       "<Figure size 576x360 with 1 Axes>"
      ]
     },
     "metadata": {
      "needs_background": "light"
     },
     "output_type": "display_data"
    },
    {
     "name": "stdout",
     "output_type": "stream",
     "text": [
      "Learning rate: 0.01\n"
     ]
    },
    {
     "data": {
      "image/png": "[encoded data removed]",
      "text/plain": [
       "<Figure size 576x360 with 1 Axes>"
      ]
     },
     "metadata": {
      "needs_background": "light"
     },
     "output_type": "display_data"
    },
    {
     "name": "stdout",
     "output_type": "stream",
     "text": [
      "Learning rate: 0.1\n"
     ]
    },
    {
     "data": {
      "image/png": "[encoded data removed]",
      "text/plain": [
       "<Figure size 576x360 with 1 Axes>"
      ]
     },
     "metadata": {
      "needs_background": "light"
     },
     "output_type": "display_data"
    }
   ],
   "source": [
    "for learning_rate, history in zip(learning_rates, histories):\n",
    "    print(\"Learning rate:\", learning_rate)\n",
    "    plot_learning_acc_and_loss(history)"
   ]
  },
  {
   "cell_type": "markdown",
   "metadata": {
    "id": "_JntujSWq3e5",
    "pycharm": {
     "name": "#%% md\n"
    }
   },
   "source": [
    "### [TO COMPLETE] GRID Search:\n",
    "\n",
    "Since a deep net has many hyperparameters, in order to find the best ones, we have to consider all the possible combinations of all of the possible values. One common method to perform this complex task is Grid-Search.\n",
    "Given a set of values for each hyper-parameter, Grid-Search will build a model on each parameter combination possible. It iterates through every parameter combination and stores a model for each combination. Finally, the model that obtained the best result on the validation set will be select.\n",
    "\n",
    "In order to perfrom Grid-Search we will use the `GridSearchCV` class from `scikit-learn`."
   ]
  },
  {
   "cell_type": "markdown",
   "metadata": {
    "id": "CPz629YSrDhN",
    "pycharm": {
     "name": "#%% md\n"
    }
   },
   "source": [
    "Let's Create a `build_model()` function that takes two arguments, `n_neurons` and `learning_rate`, and builds, compiles and returns a model with the given number of of neurons and the given learning rate.\n",
    "In order to limit the time requirements of the process we will consider only these two hyper-paramters.\n",
    "\n",
    "[TO COMPLETE] in the following code cell define the `build_model` function."
   ]
  },
  {
   "cell_type": "code",
   "execution_count": 32,
   "metadata": {
    "id": "oGSKWTTtqxZ4",
    "vscode": {
     "languageId": "python"
    },
    "pycharm": {
     "name": "#%%\n"
    }
   },
   "outputs": [
    {
     "name": "stderr",
     "output_type": "stream",
     "text": [
      "/var/folders/6f/83fhb735331g631bmd84c_xc0000gn/T/ipykernel_68006/1530238109.py:24: DeprecationWarning: KerasRegressor is deprecated, use Sci-Keras (https://github.com/adriangb/scikeras) instead. See https://www.adriangb.com/scikeras/stable/migration.html for help migrating.\n",
      "  keras_reg = keras.wrappers.scikit_learn.KerasRegressor(build_model)\n"
     ]
    }
   ],
   "source": [
    "def build_model(n_units=30, learning_rate=1e-3):\n",
    "    # The function has to build a model similar to the ones we used in previuous execises:\n",
    "    #- a input layer \n",
    "    #- one or two Dense layers composed of n_units and that exploit Relu activation function \n",
    "    #- the output layer that uses the sigmoid activation function\n",
    "    # Then, the model has to be compiled.\n",
    "    model = keras.models.Sequential([\n",
    "        tf.keras.Input(shape=(num_words,)),\n",
    "        keras.layers.Dense(n_units, activation=\"relu\"),\n",
    "        keras.layers.Dense(n_units, activation=\"relu\"),\n",
    "        keras.layers.Dense(4, activation=\"softmax\")\n",
    "    ])\n",
    "    \n",
    "    # [TO COMPLETE] Then, the model has to be compiled.\n",
    "    model.compile(loss=\"sparse_categorical_crossentropy\",\n",
    "                  optimizer=keras.optimizers.Adam(learning_rate=learning_rate),\n",
    "                  metrics=[\"accuracy\"])\n",
    "    \n",
    "    return model\n",
    "\n",
    "    \n",
    "#Create a keras.wrappers.scikit_learn.KerasRegressor and pass the build_model \n",
    "#function to the constructor. This gives you a Scikit-Learn compatible predictor\n",
    "keras_reg = keras.wrappers.scikit_learn.KerasRegressor(build_model)"
   ]
  },
  {
   "cell_type": "markdown",
   "metadata": {
    "id": "PS6W3A2LxDg5",
    "pycharm": {
     "name": "#%% md\n"
    }
   },
   "source": [
    "Let's define the lists of hyper-parameters' values. Also in this case, we use a very limited size lists, but in a real-world scenario a reasonable amount of possible values should be considered (try to add some values and check how much the time required to perform the Grid-Search increases)"
   ]
  },
  {
   "cell_type": "code",
   "execution_count": 33,
   "metadata": {
    "id": "y-uldCW3ru24",
    "vscode": {
     "languageId": "python"
    },
    "pycharm": {
     "name": "#%%\n"
    }
   },
   "outputs": [],
   "source": [
    "param_distribs = {\n",
    "    \"n_units\": [32, 64],# [TO COMPLETE] insert a list that contains few (2 or 3) reasonable value\n",
    "    \"learning_rate\": [1e-4, 1e-5, 1e-6] #[TO COMPLETE] insert a list that contains few (2 or 3) reasonable values\n",
    "    #Check how the time required to perform GRID search increases when increasing the number of values for each hyper-parameter.\n",
    "}"
   ]
  },
  {
   "cell_type": "markdown",
   "metadata": {
    "id": "bEiBxVYtx_sK",
    "pycharm": {
     "name": "#%% md\n"
    }
   },
   "source": [
    "Use a `sklearn.model_selection.GridSearchCV` to search the hyperparameter space of your `KerasRegressor`"
   ]
  },
  {
   "cell_type": "code",
   "execution_count": 34,
   "metadata": {
    "id": "iobF2Bvdr9ER",
    "vscode": {
     "languageId": "python"
    },
    "pycharm": {
     "name": "#%%\n"
    }
   },
   "outputs": [],
   "source": [
    "from sklearn.model_selection import GridSearchCV\n",
    "\n",
    "grid_search = GridSearchCV(keras_reg, param_distribs)"
   ]
  },
  {
   "cell_type": "markdown",
   "metadata": {
    "id": "LVGMcZz_yKSX",
    "pycharm": {
     "name": "#%% md\n"
    }
   },
   "source": [
    "Run the Grid-Search"
   ]
  },
  {
   "cell_type": "code",
   "execution_count": 35,
   "metadata": {
    "id": "-BA3vgTjr-hw",
    "vscode": {
     "languageId": "python"
    },
    "pycharm": {
     "name": "#%%\n"
    }
   },
   "outputs": [
    {
     "name": "stdout",
     "output_type": "stream",
     "text": [
      "Epoch 1/5\n",
      "2700/2700 [==============================] - 13s 5ms/step - loss: 0.7701 - accuracy: 0.7284 - val_loss: 0.4792 - val_accuracy: 0.8371\n",
      "Epoch 2/5\n",
      "2700/2700 [==============================] - 13s 5ms/step - loss: 0.4408 - accuracy: 0.8483 - val_loss: 0.4382 - val_accuracy: 0.8477\n",
      "Epoch 3/5\n",
      "2700/2700 [==============================] - 13s 5ms/step - loss: 0.4135 - accuracy: 0.8550 - val_loss: 0.4279 - val_accuracy: 0.8504\n",
      "Epoch 4/5\n",
      "2700/2700 [==============================] - 13s 5ms/step - loss: 0.4026 - accuracy: 0.8583 - val_loss: 0.4216 - val_accuracy: 0.8496\n",
      "Epoch 5/5\n",
      "2700/2700 [==============================] - 13s 5ms/step - loss: 0.3960 - accuracy: 0.8594 - val_loss: 0.4188 - val_accuracy: 0.8505\n",
      "675/675 [==============================] - 2s 4ms/step - loss: 0.4064 - accuracy: 0.8551\n",
      "Epoch 1/5\n",
      "2700/2700 [==============================] - 13s 5ms/step - loss: 0.7511 - accuracy: 0.7389 - val_loss: 0.4761 - val_accuracy: 0.8347\n",
      "Epoch 2/5\n",
      "2700/2700 [==============================] - 13s 5ms/step - loss: 0.4378 - accuracy: 0.8484 - val_loss: 0.4370 - val_accuracy: 0.8474\n",
      "Epoch 3/5\n",
      "2700/2700 [==============================] - 13s 5ms/step - loss: 0.4108 - accuracy: 0.8559 - val_loss: 0.4282 - val_accuracy: 0.8518\n",
      "Epoch 4/5\n",
      "2700/2700 [==============================] - 13s 5ms/step - loss: 0.3993 - accuracy: 0.8591 - val_loss: 0.4220 - val_accuracy: 0.8501\n",
      "Epoch 5/5\n",
      "2700/2700 [==============================] - 13s 5ms/step - loss: 0.3923 - accuracy: 0.8606 - val_loss: 0.4193 - val_accuracy: 0.8509\n",
      "675/675 [==============================] - 2s 4ms/step - loss: 0.4107 - accuracy: 0.8525\n",
      "Epoch 1/5\n",
      "2700/2700 [==============================] - 13s 5ms/step - loss: 0.7577 - accuracy: 0.7236 - val_loss: 0.4776 - val_accuracy: 0.8367\n",
      "Epoch 2/5\n",
      "2700/2700 [==============================] - 13s 5ms/step - loss: 0.4359 - accuracy: 0.8497 - val_loss: 0.4382 - val_accuracy: 0.8493\n",
      "Epoch 3/5\n",
      "2700/2700 [==============================] - 13s 5ms/step - loss: 0.4095 - accuracy: 0.8570 - val_loss: 0.4285 - val_accuracy: 0.8511\n",
      "Epoch 4/5\n",
      "2700/2700 [==============================] - 13s 5ms/step - loss: 0.3982 - accuracy: 0.8602 - val_loss: 0.4243 - val_accuracy: 0.8505\n",
      "Epoch 5/5\n",
      "2700/2700 [==============================] - 13s 5ms/step - loss: 0.3913 - accuracy: 0.8616 - val_loss: 0.4199 - val_accuracy: 0.8516\n",
      "675/675 [==============================] - 2s 4ms/step - loss: 0.4251 - accuracy: 0.8479\n",
      "Epoch 1/5\n",
      "2700/2700 [==============================] - 13s 5ms/step - loss: 0.7618 - accuracy: 0.7389 - val_loss: 0.4748 - val_accuracy: 0.8390\n",
      "Epoch 2/5\n",
      "2700/2700 [==============================] - 13s 5ms/step - loss: 0.4383 - accuracy: 0.8475 - val_loss: 0.4351 - val_accuracy: 0.8507\n",
      "Epoch 3/5\n",
      "2700/2700 [==============================] - 13s 5ms/step - loss: 0.4116 - accuracy: 0.8544 - val_loss: 0.4250 - val_accuracy: 0.8531\n",
      "Epoch 4/5\n",
      "2700/2700 [==============================] - 13s 5ms/step - loss: 0.4002 - accuracy: 0.8576 - val_loss: 0.4214 - val_accuracy: 0.8529\n",
      "Epoch 5/5\n",
      "2700/2700 [==============================] - 13s 5ms/step - loss: 0.3932 - accuracy: 0.8595 - val_loss: 0.4157 - val_accuracy: 0.8528\n",
      "675/675 [==============================] - 3s 4ms/step - loss: 0.4038 - accuracy: 0.8569\n",
      "Epoch 1/5\n",
      "2700/2700 [==============================] - 13s 5ms/step - loss: 0.7592 - accuracy: 0.7344 - val_loss: 0.4783 - val_accuracy: 0.8360\n",
      "Epoch 2/5\n",
      "2700/2700 [==============================] - 13s 5ms/step - loss: 0.4377 - accuracy: 0.8493 - val_loss: 0.4391 - val_accuracy: 0.8469\n",
      "Epoch 3/5\n",
      "2700/2700 [==============================] - 13s 5ms/step - loss: 0.4110 - accuracy: 0.8561 - val_loss: 0.4285 - val_accuracy: 0.8489\n",
      "Epoch 4/5\n",
      "2700/2700 [==============================] - 13s 5ms/step - loss: 0.3993 - accuracy: 0.8588 - val_loss: 0.4227 - val_accuracy: 0.8513\n",
      "Epoch 5/5\n",
      "2700/2700 [==============================] - 13s 5ms/step - loss: 0.3918 - accuracy: 0.8599 - val_loss: 0.4187 - val_accuracy: 0.8500\n",
      "675/675 [==============================] - 3s 4ms/step - loss: 0.4202 - accuracy: 0.8517\n",
      "Epoch 1/5\n",
      "2700/2700 [==============================] - 13s 5ms/step - loss: 0.6698 - accuracy: 0.7673 - val_loss: 0.4542 - val_accuracy: 0.8435\n",
      "Epoch 2/5\n",
      "2700/2700 [==============================] - 13s 5ms/step - loss: 0.4238 - accuracy: 0.8514 - val_loss: 0.4272 - val_accuracy: 0.8498\n",
      "Epoch 3/5\n",
      "2700/2700 [==============================] - 13s 5ms/step - loss: 0.4034 - accuracy: 0.8573 - val_loss: 0.4214 - val_accuracy: 0.8501\n",
      "Epoch 4/5\n",
      "2700/2700 [==============================] - 13s 5ms/step - loss: 0.3930 - accuracy: 0.8604 - val_loss: 0.4156 - val_accuracy: 0.8512\n",
      "Epoch 5/5\n",
      "2700/2700 [==============================] - 13s 5ms/step - loss: 0.3851 - accuracy: 0.8618 - val_loss: 0.4126 - val_accuracy: 0.8510\n",
      "675/675 [==============================] - 3s 4ms/step - loss: 0.3998 - accuracy: 0.8578\n",
      "Epoch 1/5\n",
      "2700/2700 [==============================] - 13s 5ms/step - loss: 0.6876 - accuracy: 0.7546 - val_loss: 0.4554 - val_accuracy: 0.8414\n",
      "Epoch 2/5\n",
      "2700/2700 [==============================] - 13s 5ms/step - loss: 0.4225 - accuracy: 0.8514 - val_loss: 0.4278 - val_accuracy: 0.8489\n",
      "Epoch 3/5\n",
      "2700/2700 [==============================] - 13s 5ms/step - loss: 0.4010 - accuracy: 0.8577 - val_loss: 0.4229 - val_accuracy: 0.8517\n",
      "Epoch 4/5\n",
      "2700/2700 [==============================] - 13s 5ms/step - loss: 0.3900 - accuracy: 0.8605 - val_loss: 0.4167 - val_accuracy: 0.8514\n",
      "Epoch 5/5\n",
      "2700/2700 [==============================] - 13s 5ms/step - loss: 0.3815 - accuracy: 0.8631 - val_loss: 0.4142 - val_accuracy: 0.8518\n",
      "675/675 [==============================] - 3s 4ms/step - loss: 0.4085 - accuracy: 0.8531\n",
      "Epoch 1/5\n",
      "2700/2700 [==============================] - 13s 5ms/step - loss: 0.6827 - accuracy: 0.7582 - val_loss: 0.4568 - val_accuracy: 0.8427\n",
      "Epoch 2/5\n",
      "2700/2700 [==============================] - 13s 5ms/step - loss: 0.4187 - accuracy: 0.8534 - val_loss: 0.4280 - val_accuracy: 0.8490\n",
      "Epoch 3/5\n",
      "2700/2700 [==============================] - 13s 5ms/step - loss: 0.3982 - accuracy: 0.8585 - val_loss: 0.4209 - val_accuracy: 0.8489\n",
      "Epoch 4/5\n",
      "2700/2700 [==============================] - 13s 5ms/step - loss: 0.3879 - accuracy: 0.8616 - val_loss: 0.4179 - val_accuracy: 0.8493\n",
      "Epoch 5/5\n",
      "2700/2700 [==============================] - 13s 5ms/step - loss: 0.3807 - accuracy: 0.8637 - val_loss: 0.4128 - val_accuracy: 0.8524\n",
      "675/675 [==============================] - 3s 4ms/step - loss: 0.4199 - accuracy: 0.8485\n",
      "Epoch 1/5\n",
      "2700/2700 [==============================] - 13s 5ms/step - loss: 0.6732 - accuracy: 0.7665 - val_loss: 0.4529 - val_accuracy: 0.8447\n",
      "Epoch 2/5\n",
      "2700/2700 [==============================] - 13s 5ms/step - loss: 0.4228 - accuracy: 0.8511 - val_loss: 0.4265 - val_accuracy: 0.8506\n",
      "Epoch 3/5\n",
      "2700/2700 [==============================] - 13s 5ms/step - loss: 0.4028 - accuracy: 0.8556 - val_loss: 0.4191 - val_accuracy: 0.8510\n",
      "Epoch 4/5\n",
      "2700/2700 [==============================] - 13s 5ms/step - loss: 0.3929 - accuracy: 0.8590 - val_loss: 0.4170 - val_accuracy: 0.8506\n",
      "Epoch 5/5\n",
      "2700/2700 [==============================] - 13s 5ms/step - loss: 0.3857 - accuracy: 0.8611 - val_loss: 0.4107 - val_accuracy: 0.8525\n",
      "675/675 [==============================] - 3s 4ms/step - loss: 0.4005 - accuracy: 0.8571\n",
      "Epoch 1/5\n",
      "2700/2700 [==============================] - 13s 5ms/step - loss: 0.6648 - accuracy: 0.7719 - val_loss: 0.4529 - val_accuracy: 0.8417\n",
      "Epoch 2/5\n",
      "2700/2700 [==============================] - 13s 5ms/step - loss: 0.4205 - accuracy: 0.8526 - val_loss: 0.4286 - val_accuracy: 0.8495\n",
      "Epoch 3/5\n",
      "2700/2700 [==============================] - 13s 5ms/step - loss: 0.4006 - accuracy: 0.8574 - val_loss: 0.4214 - val_accuracy: 0.8514\n",
      "Epoch 4/5\n",
      "2700/2700 [==============================] - 13s 5ms/step - loss: 0.3903 - accuracy: 0.8603 - val_loss: 0.4168 - val_accuracy: 0.8514\n",
      "Epoch 5/5\n",
      "2700/2700 [==============================] - 13s 5ms/step - loss: 0.3829 - accuracy: 0.8618 - val_loss: 0.4132 - val_accuracy: 0.8521\n",
      "675/675 [==============================] - 3s 4ms/step - loss: 0.4171 - accuracy: 0.8524\n",
      "Epoch 1/5\n",
      "2700/2700 [==============================] - 13s 5ms/step - loss: 1.3548 - accuracy: 0.3737 - val_loss: 1.3041 - val_accuracy: 0.4992\n",
      "Epoch 2/5\n",
      "2700/2700 [==============================] - 13s 5ms/step - loss: 1.2134 - accuracy: 0.5806 - val_loss: 1.1074 - val_accuracy: 0.6434\n",
      "Epoch 3/5\n",
      "2700/2700 [==============================] - 13s 5ms/step - loss: 0.9993 - accuracy: 0.6877 - val_loss: 0.9002 - val_accuracy: 0.7253\n",
      "Epoch 4/5\n",
      "2700/2700 [==============================] - 13s 5ms/step - loss: 0.8210 - accuracy: 0.7524 - val_loss: 0.7552 - val_accuracy: 0.7687\n",
      "Epoch 5/5\n",
      "2700/2700 [==============================] - 13s 5ms/step - loss: 0.7009 - accuracy: 0.7849 - val_loss: 0.6613 - val_accuracy: 0.7904\n",
      "675/675 [==============================] - 3s 4ms/step - loss: 0.6535 - accuracy: 0.7956\n",
      "Epoch 1/5\n",
      "2700/2700 [==============================] - 14s 5ms/step - loss: 1.3551 - accuracy: 0.3547 - val_loss: 1.3139 - val_accuracy: 0.4744\n",
      "Epoch 2/5\n",
      "2700/2700 [==============================] - 13s 5ms/step - loss: 1.2360 - accuracy: 0.5886 - val_loss: 1.1439 - val_accuracy: 0.6718\n",
      "Epoch 3/5\n",
      "2700/2700 [==============================] - 13s 5ms/step - loss: 1.0268 - accuracy: 0.7198 - val_loss: 0.9188 - val_accuracy: 0.7454\n",
      "Epoch 4/5\n",
      "2700/2700 [==============================] - 13s 5ms/step - loss: 0.8201 - accuracy: 0.7701 - val_loss: 0.7458 - val_accuracy: 0.7807\n",
      "Epoch 5/5\n",
      "2700/2700 [==============================] - 13s 5ms/step - loss: 0.6810 - accuracy: 0.7948 - val_loss: 0.6428 - val_accuracy: 0.7934\n",
      "675/675 [==============================] - 3s 4ms/step - loss: 0.6401 - accuracy: 0.7975\n",
      "Epoch 1/5\n",
      "2700/2700 [==============================] - 14s 5ms/step - loss: 1.3631 - accuracy: 0.3668 - val_loss: 1.3304 - val_accuracy: 0.4996\n",
      "Epoch 2/5\n",
      "2700/2700 [==============================] - 13s 5ms/step - loss: 1.2687 - accuracy: 0.6060 - val_loss: 1.1919 - val_accuracy: 0.6817\n",
      "Epoch 3/5\n",
      "2700/2700 [==============================] - 13s 5ms/step - loss: 1.0894 - accuracy: 0.7255 - val_loss: 0.9850 - val_accuracy: 0.7535\n",
      "Epoch 4/5\n",
      "2700/2700 [==============================] - 13s 5ms/step - loss: 0.8830 - accuracy: 0.7705 - val_loss: 0.7986 - val_accuracy: 0.7798\n",
      "Epoch 5/5\n",
      "2700/2700 [==============================] - 14s 5ms/step - loss: 0.7266 - accuracy: 0.7941 - val_loss: 0.6765 - val_accuracy: 0.8000\n",
      "675/675 [==============================] - 3s 4ms/step - loss: 0.6800 - accuracy: 0.7954\n",
      "Epoch 1/5\n",
      "2700/2700 [==============================] - 13s 5ms/step - loss: 1.3634 - accuracy: 0.3437 - val_loss: 1.3305 - val_accuracy: 0.4465\n",
      "Epoch 2/5\n",
      "2700/2700 [==============================] - 13s 5ms/step - loss: 1.2671 - accuracy: 0.5318 - val_loss: 1.1869 - val_accuracy: 0.6006\n",
      "Epoch 3/5\n",
      "2700/2700 [==============================] - 13s 5ms/step - loss: 1.0903 - accuracy: 0.6470 - val_loss: 0.9931 - val_accuracy: 0.6904\n",
      "Epoch 4/5\n",
      "2700/2700 [==============================] - 13s 5ms/step - loss: 0.9055 - accuracy: 0.7261 - val_loss: 0.8275 - val_accuracy: 0.7537\n",
      "Epoch 5/5\n",
      "2700/2700 [==============================] - 13s 5ms/step - loss: 0.7630 - accuracy: 0.7773 - val_loss: 0.7107 - val_accuracy: 0.7888\n",
      "675/675 [==============================] - 3s 4ms/step - loss: 0.7064 - accuracy: 0.7941\n",
      "Epoch 1/5\n",
      "2700/2700 [==============================] - 13s 5ms/step - loss: 1.3712 - accuracy: 0.3092 - val_loss: 1.3413 - val_accuracy: 0.4066\n",
      "Epoch 2/5\n",
      "2700/2700 [==============================] - 13s 5ms/step - loss: 1.2892 - accuracy: 0.5076 - val_loss: 1.2206 - val_accuracy: 0.6102\n",
      "Epoch 3/5\n",
      "2700/2700 [==============================] - 13s 5ms/step - loss: 1.1247 - accuracy: 0.6774 - val_loss: 1.0211 - val_accuracy: 0.7293\n",
      "Epoch 4/5\n",
      "2700/2700 [==============================] - 13s 5ms/step - loss: 0.9205 - accuracy: 0.7544 - val_loss: 0.8299 - val_accuracy: 0.7725\n",
      "Epoch 5/5\n",
      "2700/2700 [==============================] - 13s 5ms/step - loss: 0.7557 - accuracy: 0.7877 - val_loss: 0.6985 - val_accuracy: 0.7934\n",
      "675/675 [==============================] - 3s 4ms/step - loss: 0.7012 - accuracy: 0.7939\n",
      "Epoch 1/5\n",
      "2700/2700 [==============================] - 13s 5ms/step - loss: 1.3523 - accuracy: 0.3413 - val_loss: 1.2895 - val_accuracy: 0.5197\n",
      "Epoch 2/5\n",
      "2700/2700 [==============================] - 13s 5ms/step - loss: 1.1649 - accuracy: 0.6415 - val_loss: 1.0095 - val_accuracy: 0.7262\n",
      "Epoch 3/5\n",
      "2700/2700 [==============================] - 13s 5ms/step - loss: 0.8657 - accuracy: 0.7563 - val_loss: 0.7448 - val_accuracy: 0.7827\n",
      "Epoch 4/5\n",
      "2700/2700 [==============================] - 13s 5ms/step - loss: 0.6689 - accuracy: 0.7929 - val_loss: 0.6135 - val_accuracy: 0.8035\n",
      "Epoch 5/5\n",
      "2700/2700 [==============================] - 13s 5ms/step - loss: 0.5735 - accuracy: 0.8117 - val_loss: 0.5499 - val_accuracy: 0.8167\n",
      "675/675 [==============================] - 3s 4ms/step - loss: 0.5414 - accuracy: 0.8211\n",
      "Epoch 1/5\n",
      "2700/2700 [==============================] - 13s 5ms/step - loss: 1.3479 - accuracy: 0.3871 - val_loss: 1.2819 - val_accuracy: 0.5463\n",
      "Epoch 2/5\n",
      "2700/2700 [==============================] - 13s 5ms/step - loss: 1.1428 - accuracy: 0.6594 - val_loss: 0.9853 - val_accuracy: 0.7249\n",
      "Epoch 3/5\n",
      "2700/2700 [==============================] - 13s 5ms/step - loss: 0.8399 - accuracy: 0.7641 - val_loss: 0.7288 - val_accuracy: 0.7850\n",
      "Epoch 4/5\n",
      "2700/2700 [==============================] - 13s 5ms/step - loss: 0.6519 - accuracy: 0.8000 - val_loss: 0.6046 - val_accuracy: 0.8062\n",
      "Epoch 5/5\n",
      "2700/2700 [==============================] - 13s 5ms/step - loss: 0.5623 - accuracy: 0.8163 - val_loss: 0.5450 - val_accuracy: 0.8183\n",
      "675/675 [==============================] - 3s 4ms/step - loss: 0.5407 - accuracy: 0.8174\n",
      "Epoch 1/5\n",
      "2700/2700 [==============================] - 14s 5ms/step - loss: 1.3519 - accuracy: 0.3945 - val_loss: 1.2933 - val_accuracy: 0.5623\n",
      "Epoch 2/5\n",
      "2700/2700 [==============================] - 13s 5ms/step - loss: 1.1550 - accuracy: 0.6667 - val_loss: 0.9894 - val_accuracy: 0.7374\n",
      "Epoch 3/5\n",
      "2700/2700 [==============================] - 13s 5ms/step - loss: 0.8330 - accuracy: 0.7714 - val_loss: 0.7173 - val_accuracy: 0.7882\n",
      "Epoch 4/5\n",
      "2700/2700 [==============================] - 13s 5ms/step - loss: 0.6411 - accuracy: 0.8042 - val_loss: 0.5969 - val_accuracy: 0.8085\n",
      "Epoch 5/5\n",
      "2700/2700 [==============================] - 13s 5ms/step - loss: 0.5547 - accuracy: 0.8203 - val_loss: 0.5406 - val_accuracy: 0.8210\n",
      "675/675 [==============================] - 3s 4ms/step - loss: 0.5445 - accuracy: 0.8167\n",
      "Epoch 1/5\n",
      "2700/2700 [==============================] - 13s 5ms/step - loss: 1.3344 - accuracy: 0.4285 - val_loss: 1.2575 - val_accuracy: 0.5907\n",
      "Epoch 2/5\n",
      "2700/2700 [==============================] - 13s 5ms/step - loss: 1.1184 - accuracy: 0.6804 - val_loss: 0.9700 - val_accuracy: 0.7337\n",
      "Epoch 3/5\n",
      "2700/2700 [==============================] - 13s 5ms/step - loss: 0.8327 - accuracy: 0.7664 - val_loss: 0.7272 - val_accuracy: 0.7828\n",
      "Epoch 4/5\n",
      "2700/2700 [==============================] - 13s 5ms/step - loss: 0.6513 - accuracy: 0.7986 - val_loss: 0.6042 - val_accuracy: 0.8052\n",
      "Epoch 5/5\n",
      "2700/2700 [==============================] - 13s 5ms/step - loss: 0.5628 - accuracy: 0.8159 - val_loss: 0.5443 - val_accuracy: 0.8171\n",
      "675/675 [==============================] - 3s 4ms/step - loss: 0.5336 - accuracy: 0.8244\n",
      "Epoch 1/5\n",
      "2700/2700 [==============================] - 14s 5ms/step - loss: 1.3513 - accuracy: 0.3703 - val_loss: 1.2900 - val_accuracy: 0.5292\n",
      "Epoch 2/5\n",
      "2700/2700 [==============================] - 13s 5ms/step - loss: 1.1546 - accuracy: 0.6333 - val_loss: 0.9975 - val_accuracy: 0.7077\n",
      "Epoch 3/5\n",
      "2700/2700 [==============================] - 13s 5ms/step - loss: 0.8502 - accuracy: 0.7528 - val_loss: 0.7393 - val_accuracy: 0.7753\n",
      "Epoch 4/5\n",
      "2700/2700 [==============================] - 13s 5ms/step - loss: 0.6622 - accuracy: 0.7933 - val_loss: 0.6150 - val_accuracy: 0.7990\n",
      "Epoch 5/5\n",
      "2700/2700 [==============================] - 13s 5ms/step - loss: 0.5707 - accuracy: 0.8121 - val_loss: 0.5532 - val_accuracy: 0.8128\n",
      "675/675 [==============================] - 3s 4ms/step - loss: 0.5496 - accuracy: 0.8164\n",
      "Epoch 1/5\n",
      "2700/2700 [==============================] - 14s 5ms/step - loss: 1.3873 - accuracy: 0.2530 - val_loss: 1.3848 - val_accuracy: 0.2615\n",
      "Epoch 2/5\n",
      "2700/2700 [==============================] - 13s 5ms/step - loss: 1.3830 - accuracy: 0.2716 - val_loss: 1.3806 - val_accuracy: 0.2822\n",
      "Epoch 3/5\n",
      "2700/2700 [==============================] - 13s 5ms/step - loss: 1.3786 - accuracy: 0.2907 - val_loss: 1.3762 - val_accuracy: 0.3001\n",
      "Epoch 4/5\n",
      "2700/2700 [==============================] - 13s 5ms/step - loss: 1.3742 - accuracy: 0.3108 - val_loss: 1.3718 - val_accuracy: 0.3213\n",
      "Epoch 5/5\n",
      "2700/2700 [==============================] - 13s 5ms/step - loss: 1.3695 - accuracy: 0.3317 - val_loss: 1.3670 - val_accuracy: 0.3421\n",
      "675/675 [==============================] - 3s 4ms/step - loss: 1.3672 - accuracy: 0.3408\n",
      "Epoch 1/5\n",
      "2700/2700 [==============================] - 14s 5ms/step - loss: 1.3931 - accuracy: 0.2459 - val_loss: 1.3884 - val_accuracy: 0.2573\n",
      "Epoch 2/5\n",
      "2700/2700 [==============================] - 13s 5ms/step - loss: 1.3869 - accuracy: 0.2590 - val_loss: 1.3826 - val_accuracy: 0.2687\n",
      "Epoch 3/5\n",
      "2700/2700 [==============================] - 13s 5ms/step - loss: 1.3809 - accuracy: 0.2756 - val_loss: 1.3769 - val_accuracy: 0.2863\n",
      "Epoch 4/5\n",
      "2700/2700 [==============================] - 13s 5ms/step - loss: 1.3749 - accuracy: 0.2952 - val_loss: 1.3710 - val_accuracy: 0.3067\n",
      "Epoch 5/5\n",
      "2700/2700 [==============================] - 13s 5ms/step - loss: 1.3686 - accuracy: 0.3186 - val_loss: 1.3648 - val_accuracy: 0.3326\n",
      "675/675 [==============================] - 3s 4ms/step - loss: 1.3671 - accuracy: 0.3220\n",
      "Epoch 1/5\n",
      "2700/2700 [==============================] - 14s 5ms/step - loss: 1.3897 - accuracy: 0.2567 - val_loss: 1.3872 - val_accuracy: 0.2676\n",
      "Epoch 2/5\n",
      "2700/2700 [==============================] - 13s 5ms/step - loss: 1.3843 - accuracy: 0.2758 - val_loss: 1.3820 - val_accuracy: 0.2845\n",
      "Epoch 3/5\n",
      "2700/2700 [==============================] - 13s 5ms/step - loss: 1.3791 - accuracy: 0.2958 - val_loss: 1.3768 - val_accuracy: 0.3037\n",
      "Epoch 4/5\n",
      "2700/2700 [==============================] - 13s 5ms/step - loss: 1.3737 - accuracy: 0.3165 - val_loss: 1.3714 - val_accuracy: 0.3259\n",
      "Epoch 5/5\n",
      "2700/2700 [==============================] - 14s 5ms/step - loss: 1.3681 - accuracy: 0.3373 - val_loss: 1.3657 - val_accuracy: 0.3470\n",
      "675/675 [==============================] - 3s 4ms/step - loss: 1.3660 - accuracy: 0.3437\n",
      "Epoch 1/5\n",
      "2700/2700 [==============================] - 14s 5ms/step - loss: 1.3911 - accuracy: 0.2471 - val_loss: 1.3880 - val_accuracy: 0.2560\n",
      "Epoch 2/5\n",
      "2700/2700 [==============================] - 13s 5ms/step - loss: 1.3856 - accuracy: 0.2654 - val_loss: 1.3827 - val_accuracy: 0.2760\n",
      "Epoch 3/5\n",
      "2700/2700 [==============================] - 13s 5ms/step - loss: 1.3803 - accuracy: 0.2866 - val_loss: 1.3776 - val_accuracy: 0.2976\n",
      "Epoch 4/5\n",
      "2700/2700 [==============================] - 13s 5ms/step - loss: 1.3750 - accuracy: 0.3089 - val_loss: 1.3722 - val_accuracy: 0.3172\n",
      "Epoch 5/5\n",
      "2700/2700 [==============================] - 12s 5ms/step - loss: 1.3694 - accuracy: 0.3312 - val_loss: 1.3666 - val_accuracy: 0.3401\n",
      "675/675 [==============================] - 2s 3ms/step - loss: 1.3676 - accuracy: 0.3409\n",
      "Epoch 1/5\n",
      "2700/2700 [==============================] - 12s 5ms/step - loss: 1.3966 - accuracy: 0.2434 - val_loss: 1.3947 - val_accuracy: 0.2521\n",
      "Epoch 2/5\n",
      "2700/2700 [==============================] - 14s 5ms/step - loss: 1.3884 - accuracy: 0.2602 - val_loss: 1.3868 - val_accuracy: 0.2667\n",
      "Epoch 3/5\n",
      "2700/2700 [==============================] - 14s 5ms/step - loss: 1.3810 - accuracy: 0.2786 - val_loss: 1.3794 - val_accuracy: 0.2854\n",
      "Epoch 4/5\n",
      "2700/2700 [==============================] - 14s 5ms/step - loss: 1.3740 - accuracy: 0.2968 - val_loss: 1.3724 - val_accuracy: 0.3044\n",
      "Epoch 5/5\n",
      "2700/2700 [==============================] - 13s 5ms/step - loss: 1.3670 - accuracy: 0.3173 - val_loss: 1.3654 - val_accuracy: 0.3245\n",
      "675/675 [==============================] - 3s 4ms/step - loss: 1.3637 - accuracy: 0.3279\n",
      "Epoch 1/5\n",
      "2700/2700 [==============================] - 13s 5ms/step - loss: 1.3876 - accuracy: 0.2635 - val_loss: 1.3815 - val_accuracy: 0.2873\n",
      "Epoch 2/5\n",
      "2700/2700 [==============================] - 13s 5ms/step - loss: 1.3785 - accuracy: 0.2971 - val_loss: 1.3727 - val_accuracy: 0.3192\n",
      "Epoch 3/5\n",
      "2700/2700 [==============================] - 13s 5ms/step - loss: 1.3694 - accuracy: 0.3340 - val_loss: 1.3635 - val_accuracy: 0.3576\n",
      "Epoch 4/5\n",
      "2700/2700 [==============================] - 13s 5ms/step - loss: 1.3599 - accuracy: 0.3726 - val_loss: 1.3539 - val_accuracy: 0.3927\n",
      "Epoch 5/5\n",
      "2700/2700 [==============================] - 13s 5ms/step - loss: 1.3497 - accuracy: 0.4117 - val_loss: 1.3434 - val_accuracy: 0.4294\n",
      "675/675 [==============================] - 3s 4ms/step - loss: 1.3436 - accuracy: 0.4283\n",
      "Epoch 1/5\n",
      "2700/2700 [==============================] - 13s 5ms/step - loss: 1.3862 - accuracy: 0.2545 - val_loss: 1.3814 - val_accuracy: 0.2700\n",
      "Epoch 2/5\n",
      "2700/2700 [==============================] - 13s 5ms/step - loss: 1.3782 - accuracy: 0.2862 - val_loss: 1.3734 - val_accuracy: 0.3059\n",
      "Epoch 3/5\n",
      "2700/2700 [==============================] - 13s 5ms/step - loss: 1.3701 - accuracy: 0.3213 - val_loss: 1.3652 - val_accuracy: 0.3419\n",
      "Epoch 4/5\n",
      "2700/2700 [==============================] - 13s 5ms/step - loss: 1.3617 - accuracy: 0.3577 - val_loss: 1.3565 - val_accuracy: 0.3786\n",
      "Epoch 5/5\n",
      "2700/2700 [==============================] - 13s 5ms/step - loss: 1.3526 - accuracy: 0.3934 - val_loss: 1.3471 - val_accuracy: 0.4147\n",
      "675/675 [==============================] - 3s 4ms/step - loss: 1.3488 - accuracy: 0.4119\n",
      "Epoch 1/5\n",
      "2700/2700 [==============================] - 13s 5ms/step - loss: 1.3879 - accuracy: 0.2521 - val_loss: 1.3837 - val_accuracy: 0.2719\n",
      "Epoch 2/5\n",
      "2700/2700 [==============================] - 13s 5ms/step - loss: 1.3807 - accuracy: 0.2854 - val_loss: 1.3766 - val_accuracy: 0.3036\n",
      "Epoch 3/5\n",
      "2700/2700 [==============================] - 13s 5ms/step - loss: 1.3733 - accuracy: 0.3196 - val_loss: 1.3693 - val_accuracy: 0.3379\n",
      "Epoch 4/5\n",
      "2700/2700 [==============================] - 13s 5ms/step - loss: 1.3657 - accuracy: 0.3555 - val_loss: 1.3615 - val_accuracy: 0.3747\n",
      "Epoch 5/5\n",
      "2700/2700 [==============================] - 13s 5ms/step - loss: 1.3574 - accuracy: 0.3922 - val_loss: 1.3530 - val_accuracy: 0.4111\n",
      "675/675 [==============================] - 3s 4ms/step - loss: 1.3534 - accuracy: 0.4081\n",
      "Epoch 1/5\n",
      "2700/2700 [==============================] - 14s 5ms/step - loss: 1.3972 - accuracy: 0.2524 - val_loss: 1.3894 - val_accuracy: 0.2713\n",
      "Epoch 2/5\n",
      "2700/2700 [==============================] - 13s 5ms/step - loss: 1.3875 - accuracy: 0.2717 - val_loss: 1.3810 - val_accuracy: 0.2909\n",
      "Epoch 3/5\n",
      "2700/2700 [==============================] - 13s 5ms/step - loss: 1.3791 - accuracy: 0.2922 - val_loss: 1.3733 - val_accuracy: 0.3102\n",
      "Epoch 4/5\n",
      "2700/2700 [==============================] - 13s 5ms/step - loss: 1.3713 - accuracy: 0.3140 - val_loss: 1.3657 - val_accuracy: 0.3343\n",
      "Epoch 5/5\n",
      "2700/2700 [==============================] - 13s 5ms/step - loss: 1.3634 - accuracy: 0.3380 - val_loss: 1.3579 - val_accuracy: 0.3593\n",
      "675/675 [==============================] - 3s 4ms/step - loss: 1.3592 - accuracy: 0.3499\n",
      "Epoch 1/5\n",
      "2700/2700 [==============================] - 14s 5ms/step - loss: 1.3845 - accuracy: 0.2687 - val_loss: 1.3824 - val_accuracy: 0.2772\n",
      "Epoch 2/5\n",
      "2700/2700 [==============================] - 13s 5ms/step - loss: 1.3780 - accuracy: 0.2974 - val_loss: 1.3760 - val_accuracy: 0.3057\n",
      "Epoch 3/5\n",
      "2700/2700 [==============================] - 13s 5ms/step - loss: 1.3714 - accuracy: 0.3286 - val_loss: 1.3691 - val_accuracy: 0.3340\n",
      "Epoch 4/5\n",
      "2700/2700 [==============================] - 13s 5ms/step - loss: 1.3644 - accuracy: 0.3622 - val_loss: 1.3618 - val_accuracy: 0.3712\n",
      "Epoch 5/5\n",
      "2700/2700 [==============================] - 13s 5ms/step - loss: 1.3566 - accuracy: 0.3983 - val_loss: 1.3538 - val_accuracy: 0.4078\n",
      "675/675 [==============================] - 3s 4ms/step - loss: 1.3531 - accuracy: 0.4116\n",
      "Epoch 1/5\n",
      "3375/3375 [==============================] - 16s 5ms/step - loss: 0.6281 - accuracy: 0.7829 - val_loss: 0.4396 - val_accuracy: 0.8452\n",
      "Epoch 2/5\n",
      "3375/3375 [==============================] - 16s 5ms/step - loss: 0.4139 - accuracy: 0.8539 - val_loss: 0.4193 - val_accuracy: 0.8514\n",
      "Epoch 3/5\n",
      "3375/3375 [==============================] - 16s 5ms/step - loss: 0.3975 - accuracy: 0.8582 - val_loss: 0.4147 - val_accuracy: 0.8532\n",
      "Epoch 4/5\n",
      "3375/3375 [==============================] - 16s 5ms/step - loss: 0.3889 - accuracy: 0.8604 - val_loss: 0.4091 - val_accuracy: 0.8528\n",
      "Epoch 5/5\n",
      "3375/3375 [==============================] - 16s 5ms/step - loss: 0.3822 - accuracy: 0.8621 - val_loss: 0.4061 - val_accuracy: 0.8529\n"
     ]
    },
    {
     "data": {
      "text/plain": [
       "GridSearchCV(estimator=<keras.wrappers.scikit_learn.KerasRegressor object at 0x303b96bb0>,\n",
       "             param_grid={'learning_rate': [0.0001, 1e-05, 1e-06],\n",
       "                         'n_units': [32, 64]})"
      ]
     },
     "execution_count": 35,
     "metadata": {},
     "output_type": "execute_result"
    }
   ],
   "source": [
    "grid_search.fit(X_train.numpy(), y_train.numpy(), epochs=5,#The number of epochs can be modified (check what happens by increasing it)\n",
    "                validation_data=(X_valid.numpy(), y_valid.numpy()))"
   ]
  },
  {
   "cell_type": "markdown",
   "metadata": {
    "id": "aadmkiOoyM94",
    "pycharm": {
     "name": "#%% md\n"
    }
   },
   "source": [
    "Print the best hyper-parameters, and evealuate the best model on the test set."
   ]
  },
  {
   "cell_type": "code",
   "execution_count": 36,
   "metadata": {
    "id": "b0nL5OZkylNX",
    "pycharm": {
     "name": "#%%\n"
    },
    "vscode": {
     "languageId": "python"
    }
   },
   "outputs": [
    {
     "name": "stdout",
     "output_type": "stream",
     "text": [
      "{'learning_rate': 0.0001, 'n_units': 64}\n",
      "238/238 [==============================] - 1s 4ms/step - loss: 0.4161 - accuracy: 0.8478\n"
     ]
    },
    {
     "data": {
      "text/plain": [
       "[0.4160802662372589, 0.8477632403373718]"
      ]
     },
     "execution_count": 36,
     "metadata": {},
     "output_type": "execute_result"
    }
   ],
   "source": [
    "print(grid_search.best_params_)\n",
    "\n",
    "model = grid_search.best_estimator_.model\n",
    "model.evaluate(X_test, y_test)"
   ]
  }
 ],
 "metadata": {
  "colab": {
   "collapsed_sections": [],
   "name": "HW2_21_22.ipynb",
   "provenance": []
  },
  "kernelspec": {
   "display_name": "Python 3.9 (ML lib metal)",
   "language": "python",
   "name": "ml-apple-metal"
  }
 },
 "nbformat": 4,
 "nbformat_minor": 0
}